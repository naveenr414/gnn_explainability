{
 "cells": [
  {
   "cell_type": "code",
   "execution_count": 1,
   "metadata": {
    "pycharm": {
     "is_executing": true
    }
   },
   "outputs": [],
   "source": [
    "%load_ext autoreload\n",
    "%autoreload 2"
   ]
  },
  {
   "cell_type": "code",
   "execution_count": 2,
   "metadata": {
    "pycharm": {
     "is_executing": true
    }
   },
   "outputs": [],
   "source": [
    "import torch"
   ]
  },
  {
   "cell_type": "code",
   "execution_count": 3,
   "metadata": {},
   "outputs": [],
   "source": [
    "from torch_geometric.data import Data, DataLoader\n",
    "from torch_geometric.datasets import TUDataset, Planetoid\n",
    "from torch_geometric.nn import GCNConv, Set2Set, GNNExplainer\n",
    "import torch_geometric.transforms as T\n",
    "import torch\n",
    "import torch.nn.functional as F\n",
    "import os\n",
    "\n",
    "import matplotlib.pyplot as plt\n",
    "from dgl.data import BACommunityDataset\n",
    "import networkx as nx\n",
    "import torch_geometric\n",
    "import dgl\n"
   ]
  },
  {
   "cell_type": "code",
   "execution_count": 37,
   "metadata": {},
   "outputs": [],
   "source": [
    "from src.model import *\n",
    "from src.data import *\n",
    "from src.explainer import *\n",
    "from src.plot import *\n",
    "from src.modify import *\n",
    "from src.protgnn import *"
   ]
  },
  {
   "cell_type": "code",
   "execution_count": 73,
   "metadata": {},
   "outputs": [],
   "source": [
    "cora_dataset = get_cora_dataset()"
   ]
  },
  {
   "cell_type": "code",
   "execution_count": 7,
   "metadata": {},
   "outputs": [
    {
     "name": "stdout",
     "output_type": "stream",
     "text": [
      "Done loading data from cached files.\n"
     ]
    },
    {
     "name": "stderr",
     "output_type": "stream",
     "text": [
      "C:\\Users\\Yurt\\anaconda3\\lib\\site-packages\\torch_geometric\\deprecation.py:13: UserWarning: 'data.DataLoader' is deprecated, use 'loader.DataLoader' instead\n",
      "  warnings.warn(out)\n"
     ]
    }
   ],
   "source": [
    "ba_dataset = get_dataset(\"BAShapes\")"
   ]
  },
  {
   "cell_type": "code",
   "execution_count": 8,
   "metadata": {},
   "outputs": [],
   "source": [
    "num_classes = len(set([int(i) for i in ba_dataset.y]))\n",
    "num_features = ba_dataset.x.shape[-1]"
   ]
  },
  {
   "cell_type": "code",
   "execution_count": 9,
   "metadata": {},
   "outputs": [],
   "source": [
    "epochs = 200\n",
    "dim = 16"
   ]
  },
  {
   "cell_type": "code",
   "execution_count": 10,
   "metadata": {},
   "outputs": [],
   "source": [
    "device = torch.device('cuda' if torch.cuda.is_available() else 'cpu')\n",
    "model = Net(num_features=num_features, dim=dim, num_classes=num_classes).to(device)\n",
    "optimizer = torch.optim.Adam(model.parameters(), lr=0.01, weight_decay=5e-3)\n"
   ]
  },
  {
   "cell_type": "code",
   "execution_count": 11,
   "metadata": {},
   "outputs": [
    {
     "data": {
      "text/plain": [
       "(4, 1)"
      ]
     },
     "execution_count": 11,
     "metadata": {},
     "output_type": "execute_result"
    }
   ],
   "source": [
    "num_classes, num_features"
   ]
  },
  {
   "cell_type": "code",
   "execution_count": 12,
   "metadata": {},
   "outputs": [
    {
     "data": {
      "text/plain": [
       "torch.Size([2708, 1433])"
      ]
     },
     "execution_count": 12,
     "metadata": {},
     "output_type": "execute_result"
    }
   ],
   "source": [
    "cora_dataset.x.shape"
   ]
  },
  {
   "cell_type": "code",
   "execution_count": 13,
   "metadata": {},
   "outputs": [
    {
     "name": "stderr",
     "output_type": "stream",
     "text": [
      "[Train_loss:1.006355 Train_acc: 0.6446, Test_acc: 0.8071]: 100%|████████████████████| 200/200 [00:01<00:00, 172.44it/s]\n"
     ]
    }
   ],
   "source": [
    "model = train_model(epochs,model,device,ba_dataset,optimizer,test_model)"
   ]
  },
  {
   "cell_type": "code",
   "execution_count": 14,
   "metadata": {},
   "outputs": [],
   "source": [
    "num_classes = len(set([int(i) for i in cora_dataset.y]))\n",
    "num_features = cora_dataset.x.shape[-1]"
   ]
  },
  {
   "cell_type": "code",
   "execution_count": 15,
   "metadata": {},
   "outputs": [],
   "source": [
    "device = torch.device('cuda' if torch.cuda.is_available() else 'cpu')\n",
    "model = Net(num_features=num_features, dim=dim, num_classes=num_classes).to(device)\n",
    "optimizer = torch.optim.Adam(model.parameters(), lr=0.01, weight_decay=5e-3)\n"
   ]
  },
  {
   "cell_type": "code",
   "execution_count": 16,
   "metadata": {},
   "outputs": [
    {
     "name": "stderr",
     "output_type": "stream",
     "text": [
      "[Train_loss:1.582272 Train_acc: 0.4204, Test_acc: 0.4340]: 100%|█████████████████████| 200/200 [00:03<00:00, 62.23it/s]\n"
     ]
    }
   ],
   "source": [
    "model = train_model(epochs,model,device,cora_dataset,optimizer,test_model)"
   ]
  },
  {
   "cell_type": "code",
   "execution_count": 17,
   "metadata": {},
   "outputs": [],
   "source": [
    "explainer = GNNExplainer(model, epochs=200)"
   ]
  },
  {
   "cell_type": "code",
   "execution_count": 18,
   "metadata": {},
   "outputs": [
    {
     "name": "stderr",
     "output_type": "stream",
     "text": [
      "Explain node 10: 100%|██████████████████████████████████████████████████████████████| 200/200 [00:00<00:00, 603.63it/s]\n"
     ]
    }
   ],
   "source": [
    "node_feature_mask, edge_mask = explain_model(explainer,cora_dataset,10)"
   ]
  },
  {
   "cell_type": "code",
   "execution_count": 19,
   "metadata": {},
   "outputs": [],
   "source": [
    "gce_explainer = GCExplainer()"
   ]
  },
  {
   "cell_type": "code",
   "execution_count": 20,
   "metadata": {},
   "outputs": [],
   "source": [
    "gce_explainer.learn_prototypes(model,cora_dataset)"
   ]
  },
  {
   "cell_type": "code",
   "execution_count": 21,
   "metadata": {},
   "outputs": [
    {
     "data": {
      "text/plain": [
       "array([2, 0, 0, ..., 3, 2, 2], dtype=int64)"
      ]
     },
     "execution_count": 21,
     "metadata": {},
     "output_type": "execute_result"
    }
   ],
   "source": [
    "gce_explainer.get_prediction(model,cora_dataset)"
   ]
  },
  {
   "cell_type": "code",
   "execution_count": 22,
   "metadata": {},
   "outputs": [
    {
     "data": {
      "image/png": "[encoded data removed]",
      "text/plain": [
       "<Figure size 432x288 with 1 Axes>"
      ]
     },
     "metadata": {
      "needs_background": "light"
     },
     "output_type": "display_data"
    }
   ],
   "source": [
    "plot_kmeans_clusters(gce_explainer.kmeans,gce_explainer.initial_activations)"
   ]
  },
  {
   "cell_type": "code",
   "execution_count": 23,
   "metadata": {},
   "outputs": [
    {
     "data": {
      "text/plain": [
       "array([2, 0, 0, ..., 3, 2, 2], dtype=int64)"
      ]
     },
     "execution_count": 23,
     "metadata": {},
     "output_type": "execute_result"
    }
   ],
   "source": [
    "gce_explainer.get_prediction(model,identity(cora_dataset))"
   ]
  },
  {
   "cell_type": "code",
   "execution_count": 24,
   "metadata": {},
   "outputs": [],
   "source": [
    "model = GCNNet_NC(num_features, num_classes, model_args)"
   ]
  },
  {
   "cell_type": "code",
   "execution_count": 25,
   "metadata": {},
   "outputs": [
    {
     "data": {
      "text/plain": [
       "tensor([False, False, False,  ...,  True,  True,  True])"
      ]
     },
     "execution_count": 25,
     "metadata": {},
     "output_type": "execute_result"
    }
   ],
   "source": [
    "cora_dataset.test_mask"
   ]
  },
  {
   "cell_type": "code",
   "execution_count": 26,
   "metadata": {},
   "outputs": [
    {
     "name": "stderr",
     "output_type": "stream",
     "text": [
      "[Train_loss:0.229882 Train_acc: 0.2922, Test_acc: 0.3280]: 100%|█████████████████████| 200/200 [00:39<00:00,  5.08it/s]\n"
     ]
    }
   ],
   "source": [
    "model = train_model(epochs,model,device,cora_dataset,optimizer,test_model,protgnn=True)"
   ]
  },
  {
   "cell_type": "code",
   "execution_count": 27,
   "metadata": {},
   "outputs": [],
   "source": [
    "prot_explainer = ProtGNNExplainer()"
   ]
  },
  {
   "cell_type": "code",
   "execution_count": 28,
   "metadata": {},
   "outputs": [],
   "source": [
    "prot_explainer.learn_prototypes(model,cora_dataset)"
   ]
  },
  {
   "cell_type": "code",
   "execution_count": 29,
   "metadata": {},
   "outputs": [
    {
     "data": {
      "text/plain": [
       "array([22, 22, 22, ..., 22, 22, 22], dtype=int64)"
      ]
     },
     "execution_count": 29,
     "metadata": {},
     "output_type": "execute_result"
    }
   ],
   "source": [
    "prot_explainer.get_prediction(model,cora_dataset)"
   ]
  },
  {
   "cell_type": "code",
   "execution_count": 30,
   "metadata": {},
   "outputs": [],
   "source": [
    "model = GCN(num_features=num_features, dim=dim, num_classes=num_classes).to(device)"
   ]
  },
  {
   "cell_type": "code",
   "execution_count": 31,
   "metadata": {},
   "outputs": [],
   "source": [
    "# register hooks to track activation\n",
    "model = register_hooks(model)"
   ]
  },
  {
   "cell_type": "code",
   "execution_count": 32,
   "metadata": {
    "scrolled": true
   },
   "outputs": [
    {
     "name": "stderr",
     "output_type": "stream",
     "text": [
      "[Train_loss:0.096037 Train_acc: 0.0738, Test_acc: 0.0660]: 100%|█████████████████████| 200/200 [00:07<00:00, 27.16it/s]\n"
     ]
    },
    {
     "data": {
      "text/plain": [
       "GCN(\n",
       "  (conv0): GCNConv(1433, 16)\n",
       "  (conv1): GCNConv(16, 16)\n",
       "  (conv2): GCNConv(16, 16)\n",
       "  (conv3): GCNConv(16, 16)\n",
       "  (lens): Sequential(\n",
       "    (0): EntropyLinear(\n",
       "      in_features=16, out_features=1, n_classes=7\n",
       "      (conceptizator): Conceptizator(activation=identity_bool, threshold=0.5)\n",
       "    )\n",
       "  )\n",
       ")"
      ]
     },
     "execution_count": 32,
     "metadata": {},
     "output_type": "execute_result"
    }
   ],
   "source": [
    "train_model(epochs,model,device,cora_dataset,optimizer,test_model,if_interpretable_model=True)"
   ]
  },
  {
   "cell_type": "code",
   "execution_count": 33,
   "metadata": {},
   "outputs": [],
   "source": [
    "cdm_explainer = CDMExplainer()"
   ]
  },
  {
   "cell_type": "code",
   "execution_count": 34,
   "metadata": {
    "scrolled": true
   },
   "outputs": [
    {
     "name": "stdout",
     "output_type": "stream",
     "text": [
      "\n",
      "2\n",
      "Explanation class 0:  - acc. = 0.0000 - compl. = 0.0000\n",
      "feature0000000003\n",
      "2\n",
      "Explanation class 1: feature0000000003 - acc. = 0.0660 - compl. = 1.0000\n",
      "feature0000000012\n",
      "2\n",
      "Explanation class 2: feature0000000012 - acc. = 0.1480 - compl. = 1.0000\n",
      "feature0000000012\n",
      "2\n",
      "Explanation class 3: feature0000000012 - acc. = 0.3280 - compl. = 1.0000\n",
      "feature0000000014\n",
      "2\n",
      "Explanation class 4: feature0000000014 - acc. = 0.2280 - compl. = 1.0000\n",
      "~feature0000000001 & ~feature0000000012 & ~feature0000000014\n",
      "2\n",
      "Explanation class 5: ~feature0000000001 & ~feature0000000012 & ~feature0000000014 - acc. = 0.9220 - compl. = 3.0000\n",
      "~feature0000000001 & ~feature0000000003 & ~feature0000000014\n",
      "2\n",
      "Explanation class 6: ~feature0000000001 & ~feature0000000003 & ~feature0000000014 - acc. = 0.9500 - compl. = 3.0000\n"
     ]
    },
    {
     "data": {
      "text/plain": [
       "{'0': {'explanation': '',\n",
       "  'explanation_accuracy': 0.0,\n",
       "  'explanation_complexity': 0},\n",
       " '1': {'explanation': 'feature0000000003',\n",
       "  'explanation_accuracy': 0.066,\n",
       "  'explanation_complexity': 1},\n",
       " '2': {'explanation': 'feature0000000012',\n",
       "  'explanation_accuracy': 0.148,\n",
       "  'explanation_complexity': 1},\n",
       " '3': {'explanation': 'feature0000000012',\n",
       "  'explanation_accuracy': 0.328,\n",
       "  'explanation_complexity': 1},\n",
       " '4': {'explanation': 'feature0000000014',\n",
       "  'explanation_accuracy': 0.228,\n",
       "  'explanation_complexity': 1},\n",
       " '5': {'explanation': '~feature0000000001 & ~feature0000000012 & ~feature0000000014',\n",
       "  'explanation_accuracy': 0.922,\n",
       "  'explanation_complexity': 3},\n",
       " '6': {'explanation': '~feature0000000001 & ~feature0000000003 & ~feature0000000014',\n",
       "  'explanation_accuracy': 0.95,\n",
       "  'explanation_complexity': 3}}"
      ]
     },
     "execution_count": 34,
     "metadata": {},
     "output_type": "execute_result"
    }
   ],
   "source": [
    "cdm_explainer.get_explanation(model, cora_dataset, activation_list)"
   ]
  },
  {
   "cell_type": "code",
   "execution_count": 74,
   "metadata": {
    "scrolled": true
   },
   "outputs": [
    {
     "data": {
      "text/plain": [
       "Data(x=[2708, 1433], edge_index=[2, 14104], y=[2708], train_mask=[2708], test_mask=[2708])"
      ]
     },
     "execution_count": 74,
     "metadata": {},
     "output_type": "execute_result"
    }
   ],
   "source": [
    "aggressive_adversary(cora_dataset, frac=0.1)"
   ]
  },
  {
   "cell_type": "code",
   "execution_count": null,
   "metadata": {},
   "outputs": [],
   "source": []
  }
 ],
 "metadata": {
  "kernelspec": {
   "display_name": "Python 3",
   "language": "python",
   "name": "python3"
  },
  "language_info": {
   "codemirror_mode": {
    "name": "ipython",
    "version": 3
   },
   "file_extension": ".py",
   "mimetype": "text/x-python",
   "name": "python",
   "nbconvert_exporter": "python",
   "pygments_lexer": "ipython3",
   "version": "3.8.8"
  }
 },
 "nbformat": 4,
 "nbformat_minor": 4
}
