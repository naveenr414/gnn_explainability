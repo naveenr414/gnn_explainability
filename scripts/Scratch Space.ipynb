{
 "cells": [
  {
   "cell_type": "code",
   "execution_count": 1,
   "metadata": {
    "pycharm": {
     "is_executing": true
    }
   },
   "outputs": [],
   "source": [
    "%load_ext autoreload\n",
    "%autoreload 2"
   ]
  },
  {
   "cell_type": "code",
   "execution_count": 2,
   "metadata": {
    "pycharm": {
     "is_executing": true
    }
   },
   "outputs": [],
   "source": [
    "import torch"
   ]
  },
  {
   "cell_type": "code",
   "execution_count": 3,
   "metadata": {},
   "outputs": [],
   "source": [
    "from torch_geometric.data import Data, DataLoader\n",
    "from torch_geometric.datasets import TUDataset, Planetoid\n",
    "from torch_geometric.nn import GCNConv, Set2Set, GNNExplainer\n",
    "import torch_geometric.transforms as T\n",
    "import torch\n",
    "import torch.nn.functional as F\n",
    "import os\n",
    "\n",
    "import matplotlib.pyplot as plt\n",
    "from dgl.data import BACommunityDataset\n",
    "import networkx as nx\n",
    "import torch_geometric\n",
    "import dgl\n"
   ]
  },
  {
   "cell_type": "code",
   "execution_count": 4,
   "metadata": {},
   "outputs": [
    {
     "name": "stdout",
     "output_type": "stream",
     "text": [
      "C:\\Users\\Yurt\\Documents\\Cambridge\\GNN\\gnn_explainability\n"
     ]
    }
   ],
   "source": [
    "%cd C:\\\\Users\\\\Yurt\\\\Documents\\\\Cambridge\\\\GNN\\\\gnn_explainability"
   ]
  },
  {
   "cell_type": "code",
   "execution_count": 49,
   "metadata": {},
   "outputs": [],
   "source": [
    "from src.model import *\n",
    "from src.data import *\n",
    "from src.explainer import *\n",
    "from src.plot import *\n",
    "from src.modify import *\n",
    "from src.protgnn import *"
   ]
  },
  {
   "cell_type": "code",
   "execution_count": 6,
   "metadata": {},
   "outputs": [
    {
     "name": "stdout",
     "output_type": "stream",
     "text": [
      "Done loading data from cached files.\n"
     ]
    },
    {
     "name": "stderr",
     "output_type": "stream",
     "text": [
      "C:\\Users\\Yurt\\anaconda3\\lib\\site-packages\\torch_geometric\\deprecation.py:13: UserWarning: 'data.DataLoader' is deprecated, use 'loader.DataLoader' instead\n",
      "  warnings.warn(out)\n"
     ]
    }
   ],
   "source": [
    "ba_dataset = get_dataset(\"BAShapes\")"
   ]
  },
  {
   "cell_type": "code",
   "execution_count": 7,
   "metadata": {},
   "outputs": [],
   "source": [
    "num_classes = len(set([int(i) for i in ba_dataset.y]))\n",
    "num_features = ba_dataset.x.shape[-1]"
   ]
  },
  {
   "cell_type": "code",
   "execution_count": 8,
   "metadata": {},
   "outputs": [],
   "source": [
    "epochs = 3000\n",
    "dim = 20"
   ]
  },
  {
   "cell_type": "markdown",
   "metadata": {},
   "source": [
    "## GCExplainer"
   ]
  },
  {
   "cell_type": "code",
   "execution_count": 9,
   "metadata": {},
   "outputs": [],
   "source": [
    "device = torch.device('cuda' if torch.cuda.is_available() else 'cpu')\n",
    "model = Net(num_features=num_features, dim=dim, num_classes=num_classes).to(device)\n",
    "optimizer = torch.optim.Adam(model.parameters(), lr=0.01, weight_decay=5e-3)\n"
   ]
  },
  {
   "cell_type": "code",
   "execution_count": 10,
   "metadata": {},
   "outputs": [
    {
     "name": "stderr",
     "output_type": "stream",
     "text": [
      "[Train_loss:0.186315 Train_acc: 0.9750, Test_acc: 0.9071]: 100%|███████████████████| 3000/3000 [00:58<00:00, 51.03it/s]\n"
     ]
    }
   ],
   "source": [
    "model = train_model(epochs,model,device,ba_dataset,optimizer,test_model)"
   ]
  },
  {
   "cell_type": "code",
   "execution_count": 11,
   "metadata": {},
   "outputs": [],
   "source": [
    "gce_explainer = GCExplainer()"
   ]
  },
  {
   "cell_type": "code",
   "execution_count": 12,
   "metadata": {},
   "outputs": [
    {
     "name": "stderr",
     "output_type": "stream",
     "text": [
      "C:\\Users\\Yurt\\anaconda3\\lib\\site-packages\\sklearn\\cluster\\_kmeans.py:870: FutureWarning: The default value of `n_init` will change from 10 to 'auto' in 1.4. Set the value of `n_init` explicitly to suppress the warning\n",
      "  warnings.warn(\n",
      "C:\\Users\\Yurt\\anaconda3\\lib\\site-packages\\sklearn\\cluster\\_kmeans.py:1382: UserWarning: KMeans is known to have a memory leak on Windows with MKL, when there are less chunks than available threads. You can avoid it by setting the environment variable OMP_NUM_THREADS=3.\n",
      "  warnings.warn(\n"
     ]
    }
   ],
   "source": [
    "gce_explainer.learn_prototypes(model,ba_dataset)"
   ]
  },
  {
   "cell_type": "code",
   "execution_count": 13,
   "metadata": {},
   "outputs": [
    {
     "data": {
      "text/plain": [
       "array([3, 3, 3, 1, 1, 3, 3, 3, 3, 3, 1, 3, 1, 1, 2, 3, 1, 3, 1, 1, 1, 1,\n",
       "       1, 1, 1, 3, 2, 1, 3, 3, 1, 1, 1, 1, 1, 3, 3, 1, 3, 3, 2, 3, 3, 0,\n",
       "       3, 1, 3, 3, 1, 3, 3, 1, 1, 3, 3, 1, 3, 0, 3, 3, 2, 0, 3, 1, 1, 1,\n",
       "       3, 1, 3, 3, 2, 1, 1, 3, 0, 3, 1, 1, 1, 1, 3, 1, 3, 3, 1, 1, 3, 1,\n",
       "       3, 1, 3, 3, 1, 1, 1, 1, 0, 0, 0, 3, 2, 2, 0, 1, 3, 1, 3, 1, 3, 3,\n",
       "       1, 3, 3, 1, 1, 3, 1, 3, 1, 1, 1, 3, 3, 3, 3, 3, 1, 1, 0, 3, 1, 3,\n",
       "       1, 1, 1, 1, 1, 3, 0, 2], dtype=int64)"
      ]
     },
     "execution_count": 13,
     "metadata": {},
     "output_type": "execute_result"
    }
   ],
   "source": [
    "gce_explainer.get_prediction(model,ba_dataset)"
   ]
  },
  {
   "cell_type": "code",
   "execution_count": 14,
   "metadata": {},
   "outputs": [
    {
     "data": {
      "image/png": "[encoded data removed]",
      "text/plain": [
       "<Figure size 432x288 with 1 Axes>"
      ]
     },
     "metadata": {
      "needs_background": "light"
     },
     "output_type": "display_data"
    }
   ],
   "source": [
    "plot_kmeans_clusters(gce_explainer.kmeans,gce_explainer.initial_activations)"
   ]
  },
  {
   "cell_type": "code",
   "execution_count": 15,
   "metadata": {},
   "outputs": [
    {
     "data": {
      "text/plain": [
       "array([3, 3, 3, 1, 1, 3, 3, 3, 3, 3, 1, 3, 1, 1, 2, 3, 1, 3, 1, 1, 1, 1,\n",
       "       1, 1, 1, 3, 2, 1, 3, 3, 1, 1, 1, 1, 1, 3, 3, 1, 3, 3, 2, 3, 3, 0,\n",
       "       3, 1, 3, 3, 1, 3, 3, 1, 1, 3, 3, 1, 3, 0, 3, 3, 2, 0, 3, 1, 1, 1,\n",
       "       3, 1, 3, 3, 2, 1, 1, 3, 0, 3, 1, 1, 1, 1, 3, 1, 3, 3, 1, 1, 3, 1,\n",
       "       3, 1, 3, 3, 1, 1, 1, 1, 0, 0, 0, 3, 2, 2, 0, 1, 3, 1, 3, 1, 3, 3,\n",
       "       1, 3, 3, 1, 1, 3, 1, 3, 1, 1, 1, 3, 3, 3, 3, 3, 1, 1, 0, 3, 1, 3,\n",
       "       1, 1, 1, 1, 1, 3, 0, 2], dtype=int64)"
      ]
     },
     "execution_count": 15,
     "metadata": {},
     "output_type": "execute_result"
    }
   ],
   "source": [
    "gce_explainer.get_prediction(model,identity(ba_dataset))"
   ]
  },
  {
   "cell_type": "code",
   "execution_count": 16,
   "metadata": {
    "scrolled": true
   },
   "outputs": [
    {
     "data": {
      "text/plain": [
       "0.8714285714285714"
      ]
     },
     "execution_count": 16,
     "metadata": {},
     "output_type": "execute_result"
    }
   ],
   "source": [
    "gce_explainer.get_completeness(model,identity(ba_dataset))"
   ]
  },
  {
   "cell_type": "markdown",
   "metadata": {},
   "source": [
    "## ProtGNN"
   ]
  },
  {
   "cell_type": "code",
   "execution_count": 55,
   "metadata": {},
   "outputs": [
    {
     "name": "stdout",
     "output_type": "stream",
     "text": [
      "20\n"
     ]
    }
   ],
   "source": [
    "model = GCNNet_NC(num_features, num_classes, model_args).to(device)"
   ]
  },
  {
   "cell_type": "code",
   "execution_count": 18,
   "metadata": {},
   "outputs": [
    {
     "ename": "FileNotFoundError",
     "evalue": "[Errno 2] No such file or directory: '../models/protgnn_bashapes.pt'",
     "output_type": "error",
     "traceback": [
      "\u001b[1;31m---------------------------------------------------------------------------\u001b[0m",
      "\u001b[1;31mFileNotFoundError\u001b[0m                         Traceback (most recent call last)",
      "\u001b[1;32m<ipython-input-18-b31398f19a82>\u001b[0m in \u001b[0;36m<module>\u001b[1;34m\u001b[0m\n\u001b[1;32m----> 1\u001b[1;33m \u001b[0mmodel\u001b[0m\u001b[1;33m.\u001b[0m\u001b[0mload_state_dict\u001b[0m\u001b[1;33m(\u001b[0m\u001b[0mtorch\u001b[0m\u001b[1;33m.\u001b[0m\u001b[0mload\u001b[0m\u001b[1;33m(\u001b[0m\u001b[1;34m\"../models/protgnn_bashapes.pt\"\u001b[0m\u001b[1;33m)\u001b[0m\u001b[1;33m)\u001b[0m\u001b[1;33m\u001b[0m\u001b[1;33m\u001b[0m\u001b[0m\n\u001b[0m",
      "\u001b[1;32m~\\anaconda3\\lib\\site-packages\\torch\\serialization.py\u001b[0m in \u001b[0;36mload\u001b[1;34m(f, map_location, pickle_module, **pickle_load_args)\u001b[0m\n\u001b[0;32m    592\u001b[0m         \u001b[0mpickle_load_args\u001b[0m\u001b[1;33m[\u001b[0m\u001b[1;34m'encoding'\u001b[0m\u001b[1;33m]\u001b[0m \u001b[1;33m=\u001b[0m \u001b[1;34m'utf-8'\u001b[0m\u001b[1;33m\u001b[0m\u001b[1;33m\u001b[0m\u001b[0m\n\u001b[0;32m    593\u001b[0m \u001b[1;33m\u001b[0m\u001b[0m\n\u001b[1;32m--> 594\u001b[1;33m     \u001b[1;32mwith\u001b[0m \u001b[0m_open_file_like\u001b[0m\u001b[1;33m(\u001b[0m\u001b[0mf\u001b[0m\u001b[1;33m,\u001b[0m \u001b[1;34m'rb'\u001b[0m\u001b[1;33m)\u001b[0m \u001b[1;32mas\u001b[0m \u001b[0mopened_file\u001b[0m\u001b[1;33m:\u001b[0m\u001b[1;33m\u001b[0m\u001b[1;33m\u001b[0m\u001b[0m\n\u001b[0m\u001b[0;32m    595\u001b[0m         \u001b[1;32mif\u001b[0m \u001b[0m_is_zipfile\u001b[0m\u001b[1;33m(\u001b[0m\u001b[0mopened_file\u001b[0m\u001b[1;33m)\u001b[0m\u001b[1;33m:\u001b[0m\u001b[1;33m\u001b[0m\u001b[1;33m\u001b[0m\u001b[0m\n\u001b[0;32m    596\u001b[0m             \u001b[1;31m# The zipfile reader is going to advance the current file position.\u001b[0m\u001b[1;33m\u001b[0m\u001b[1;33m\u001b[0m\u001b[1;33m\u001b[0m\u001b[0m\n",
      "\u001b[1;32m~\\anaconda3\\lib\\site-packages\\torch\\serialization.py\u001b[0m in \u001b[0;36m_open_file_like\u001b[1;34m(name_or_buffer, mode)\u001b[0m\n\u001b[0;32m    228\u001b[0m \u001b[1;32mdef\u001b[0m \u001b[0m_open_file_like\u001b[0m\u001b[1;33m(\u001b[0m\u001b[0mname_or_buffer\u001b[0m\u001b[1;33m,\u001b[0m \u001b[0mmode\u001b[0m\u001b[1;33m)\u001b[0m\u001b[1;33m:\u001b[0m\u001b[1;33m\u001b[0m\u001b[1;33m\u001b[0m\u001b[0m\n\u001b[0;32m    229\u001b[0m     \u001b[1;32mif\u001b[0m \u001b[0m_is_path\u001b[0m\u001b[1;33m(\u001b[0m\u001b[0mname_or_buffer\u001b[0m\u001b[1;33m)\u001b[0m\u001b[1;33m:\u001b[0m\u001b[1;33m\u001b[0m\u001b[1;33m\u001b[0m\u001b[0m\n\u001b[1;32m--> 230\u001b[1;33m         \u001b[1;32mreturn\u001b[0m \u001b[0m_open_file\u001b[0m\u001b[1;33m(\u001b[0m\u001b[0mname_or_buffer\u001b[0m\u001b[1;33m,\u001b[0m \u001b[0mmode\u001b[0m\u001b[1;33m)\u001b[0m\u001b[1;33m\u001b[0m\u001b[1;33m\u001b[0m\u001b[0m\n\u001b[0m\u001b[0;32m    231\u001b[0m     \u001b[1;32melse\u001b[0m\u001b[1;33m:\u001b[0m\u001b[1;33m\u001b[0m\u001b[1;33m\u001b[0m\u001b[0m\n\u001b[0;32m    232\u001b[0m         \u001b[1;32mif\u001b[0m \u001b[1;34m'w'\u001b[0m \u001b[1;32min\u001b[0m \u001b[0mmode\u001b[0m\u001b[1;33m:\u001b[0m\u001b[1;33m\u001b[0m\u001b[1;33m\u001b[0m\u001b[0m\n",
      "\u001b[1;32m~\\anaconda3\\lib\\site-packages\\torch\\serialization.py\u001b[0m in \u001b[0;36m__init__\u001b[1;34m(self, name, mode)\u001b[0m\n\u001b[0;32m    209\u001b[0m \u001b[1;32mclass\u001b[0m \u001b[0m_open_file\u001b[0m\u001b[1;33m(\u001b[0m\u001b[0m_opener\u001b[0m\u001b[1;33m)\u001b[0m\u001b[1;33m:\u001b[0m\u001b[1;33m\u001b[0m\u001b[1;33m\u001b[0m\u001b[0m\n\u001b[0;32m    210\u001b[0m     \u001b[1;32mdef\u001b[0m \u001b[0m__init__\u001b[0m\u001b[1;33m(\u001b[0m\u001b[0mself\u001b[0m\u001b[1;33m,\u001b[0m \u001b[0mname\u001b[0m\u001b[1;33m,\u001b[0m \u001b[0mmode\u001b[0m\u001b[1;33m)\u001b[0m\u001b[1;33m:\u001b[0m\u001b[1;33m\u001b[0m\u001b[1;33m\u001b[0m\u001b[0m\n\u001b[1;32m--> 211\u001b[1;33m         \u001b[0msuper\u001b[0m\u001b[1;33m(\u001b[0m\u001b[0m_open_file\u001b[0m\u001b[1;33m,\u001b[0m \u001b[0mself\u001b[0m\u001b[1;33m)\u001b[0m\u001b[1;33m.\u001b[0m\u001b[0m__init__\u001b[0m\u001b[1;33m(\u001b[0m\u001b[0mopen\u001b[0m\u001b[1;33m(\u001b[0m\u001b[0mname\u001b[0m\u001b[1;33m,\u001b[0m \u001b[0mmode\u001b[0m\u001b[1;33m)\u001b[0m\u001b[1;33m)\u001b[0m\u001b[1;33m\u001b[0m\u001b[1;33m\u001b[0m\u001b[0m\n\u001b[0m\u001b[0;32m    212\u001b[0m \u001b[1;33m\u001b[0m\u001b[0m\n\u001b[0;32m    213\u001b[0m     \u001b[1;32mdef\u001b[0m \u001b[0m__exit__\u001b[0m\u001b[1;33m(\u001b[0m\u001b[0mself\u001b[0m\u001b[1;33m,\u001b[0m \u001b[1;33m*\u001b[0m\u001b[0margs\u001b[0m\u001b[1;33m)\u001b[0m\u001b[1;33m:\u001b[0m\u001b[1;33m\u001b[0m\u001b[1;33m\u001b[0m\u001b[0m\n",
      "\u001b[1;31mFileNotFoundError\u001b[0m: [Errno 2] No such file or directory: '../models/protgnn_bashapes.pt'"
     ]
    }
   ],
   "source": [
    "model.load_state_dict(torch.load(\"../models/protgnn_bashapes.pt\"))"
   ]
  },
  {
   "cell_type": "code",
   "execution_count": 41,
   "metadata": {},
   "outputs": [],
   "source": [
    "optimizer = torch.optim.Adam(model.parameters(), lr=0.005, weight_decay=5e-3)"
   ]
  },
  {
   "cell_type": "code",
   "execution_count": 42,
   "metadata": {},
   "outputs": [
    {
     "name": "stderr",
     "output_type": "stream",
     "text": [
      "[Train_loss:0.758035 Train_acc: 0.6393, Test_acc: 0.5571]: 100%|█████████████████████| 300/300 [00:19<00:00, 15.44it/s]\n"
     ]
    }
   ],
   "source": [
    "model = train_model(300,model,device,ba_dataset,optimizer,test_model,get_outputs=lambda a: a[1])"
   ]
  },
  {
   "cell_type": "code",
   "execution_count": 54,
   "metadata": {},
   "outputs": [],
   "source": [
    "prot_explainer = ProtGNNExplainer()"
   ]
  },
  {
   "cell_type": "code",
   "execution_count": 51,
   "metadata": {},
   "outputs": [
    {
     "name": "stdout",
     "output_type": "stream",
     "text": [
      "Parameter containing:\n",
      "tensor([[ 4.5152e-02,  8.3712e-03,  2.4114e-01,  ...,  3.1308e-01,\n",
      "          2.3096e-01,  7.8146e-02],\n",
      "        [ 3.0119e-02,  2.5905e-02, -3.3321e-03,  ..., -9.8008e-03,\n",
      "         -1.2251e-03, -7.8927e-04],\n",
      "        [ 7.3347e-03,  6.8882e-02,  2.5487e-03,  ..., -1.0199e-02,\n",
      "          3.4759e-02,  6.9877e-02],\n",
      "        ...,\n",
      "        [ 2.8897e-03,  1.0690e-02,  3.2472e-02,  ...,  3.3235e-02,\n",
      "         -3.0388e-03,  1.9525e-03],\n",
      "        [ 1.1636e-02, -6.9539e-08, -7.5830e-03,  ..., -9.8608e-03,\n",
      "          5.5682e-02, -5.7599e-03],\n",
      "        [ 2.3782e-03,  4.8228e-08, -6.4975e-03,  ...,  3.9509e-03,\n",
      "         -4.8631e-03, -5.5258e-03]], requires_grad=True)\n"
     ]
    }
   ],
   "source": [
    "prot_explainer.learn_prototypes(model,ba_dataset)"
   ]
  },
  {
   "cell_type": "code",
   "execution_count": 52,
   "metadata": {
    "scrolled": true
   },
   "outputs": [
    {
     "data": {
      "text/plain": [
       "array([14, 14, 14, 14, 14, 14, 14, 14, 14, 14, 14, 14, 14, 14, 14, 14, 14,\n",
       "       14, 14, 14, 14, 14, 14, 14, 14, 14, 14, 14, 14,  0, 14, 14, 14, 14,\n",
       "       14,  9,  0, 14, 14, 14, 14, 14, 14, 14,  9, 14, 14, 14, 14,  9, 14,\n",
       "       14, 14,  9, 14, 14, 14,  9, 14, 14,  9, 14, 14, 14,  9,  9, 14, 14,\n",
       "        9, 14, 14, 14,  9, 14, 14, 14,  9, 14, 14, 14, 14,  9, 14, 14,  9,\n",
       "       14, 14,  9, 14, 14,  9, 14, 14, 14, 14, 14,  9, 14, 14, 14, 14, 14,\n",
       "       14,  9, 14, 14,  9, 14, 14,  9, 14, 14,  9, 14, 14,  9, 14, 14, 14,\n",
       "        9, 14,  9, 14, 14,  9, 14, 14,  9, 14, 14,  9, 14, 14,  9, 14, 14,\n",
       "        0, 14, 14, 14, 14,  9,  9, 14, 14,  9, 14, 14,  9, 14, 14, 14, 14,\n",
       "       14,  9, 14, 14, 14, 14, 14,  9,  9, 14, 14,  9, 14, 14, 14, 14, 14,\n",
       "       14,  9, 14, 14,  9, 14, 14, 14, 14, 14,  9, 14, 14,  9,  9, 14, 14,\n",
       "       14,  9, 14,  9, 14,  9, 14, 14, 14, 14,  0,  9, 14, 14, 14, 14,  0,\n",
       "       14, 14,  9, 14, 14, 14,  9, 14, 14,  9, 14, 14,  9, 14, 14,  9,  0,\n",
       "       14, 14,  9,  9, 14,  9,  9, 14, 14, 14,  9, 14, 14,  9,  9, 14, 14,\n",
       "        9,  9, 14,  9, 14, 14,  9, 14, 14, 14, 14, 14,  9, 14, 14,  9, 14,\n",
       "       14, 14,  9, 14,  9, 14, 14,  9, 14, 14,  9,  9,  9, 14, 14,  9, 14,\n",
       "       14,  9,  9, 14, 14, 14, 14,  9,  9,  9,  9,  9,  0, 14, 14, 14, 14,\n",
       "        0, 14,  9,  9,  9,  9,  9, 14,  9,  9,  9,  9,  9,  9, 14,  9,  9,\n",
       "        9,  0,  9,  9, 14, 14, 14,  9,  0,  9,  9,  9, 14, 14, 14, 14,  9,\n",
       "        9,  9, 14, 14,  9,  9,  0,  9, 14, 14,  9, 14, 14,  9,  9,  9, 14,\n",
       "        9,  9, 14, 14,  0, 14,  9,  9,  9, 14, 14,  9,  0,  9,  9,  9, 14,\n",
       "       14,  9,  0,  0,  9,  9,  9, 14, 14,  9,  9,  9,  9,  9,  9,  0,  9,\n",
       "        9,  0, 14, 14,  0,  9,  0,  0,  9, 14, 14,  9,  0,  0,  0,  9,  0,\n",
       "        0,  0,  9, 14, 14,  0,  0,  0,  9,  9,  9,  0,  9,  0,  9,  0,  9,\n",
       "        0,  0,  0,  0,  0,  9,  0,  9,  9,  9,  0,  0, 14,  9,  0,  9,  0,\n",
       "        0,  0,  9,  0, 14,  9,  0,  9,  9,  9,  9,  0,  9,  9,  0,  0,  0,\n",
       "        9,  9,  9,  9,  9,  9,  9,  0,  9,  9,  0,  9,  9,  9,  9,  0,  9,\n",
       "        0,  0,  9,  9,  9,  9,  9,  9,  9,  9,  9,  9,  9,  9,  9,  9,  9,\n",
       "        9,  9,  9,  9,  9,  9,  9,  9,  9,  9,  9,  9,  9,  9,  0,  9,  9,\n",
       "        9,  0,  9,  9,  9,  9,  9,  9,  0,  9,  0,  9,  0,  9,  9,  9,  9,\n",
       "        9,  0,  9,  9,  9,  0,  0,  9,  9,  9,  0,  9,  0,  0,  0,  0,  0,\n",
       "        9,  0,  9,  9,  9,  0,  9,  0,  9,  9,  9,  9,  9,  0,  0,  0,  9,\n",
       "        9,  0,  9,  0,  0,  9,  9,  9,  0,  9,  0,  9,  0,  9,  0,  9,  0,\n",
       "        0,  9,  0,  0,  9,  0,  0,  9,  9,  9,  9,  0,  9,  9,  9,  0,  0,\n",
       "        9,  0,  0,  9,  9,  9,  0,  0,  9,  9,  9,  9,  9,  0,  0,  0,  0,\n",
       "        9,  9,  9,  0,  0,  9,  9,  9,  9,  9,  9,  0,  9,  0,  9,  9,  0,\n",
       "        9,  0,  9,  9,  0, 14,  9,  9,  9, 14,  9,  9,  9,  0,  0,  0,  9,\n",
       "        0,  9,  9,  9,  0,  9,  9,  9,  0,  0,  9,  9,  9,  9,  0,  9,  9,\n",
       "        0,  0,  9,  9,  0,  9,  0,  9,  9,  9,  9, 14,  9,  9, 14, 14, 14,\n",
       "        9,  9,  9,  9,  9,  9,  9,  9,  9,  9,  9,  9,  9,  9,  9,  9,  0,\n",
       "        9,  9,  9,  9,  9,  9,  9,  9,  0,  9,  9,  0,  0,  0,  0,  0,  0,\n",
       "        0,  9, 14], dtype=int64)"
      ]
     },
     "execution_count": 52,
     "metadata": {},
     "output_type": "execute_result"
    }
   ],
   "source": [
    "prot_explainer.get_prediction(model,ba_dataset)"
   ]
  },
  {
   "cell_type": "code",
   "execution_count": 53,
   "metadata": {},
   "outputs": [
    {
     "name": "stdout",
     "output_type": "stream",
     "text": [
      "(700, 20)\n"
     ]
    }
   ],
   "source": [
    "probs = prot_explainer.get_prototype_probs(model,ba_dataset)\n",
    "print(probs.shape)"
   ]
  },
  {
   "cell_type": "markdown",
   "metadata": {},
   "source": [
    "## CDM"
   ]
  },
  {
   "cell_type": "code",
   "execution_count": 24,
   "metadata": {},
   "outputs": [],
   "source": [
    "model = GCN(num_features=num_features, dim=dim, num_classes=num_classes)"
   ]
  },
  {
   "cell_type": "code",
   "execution_count": 25,
   "metadata": {},
   "outputs": [],
   "source": [
    "device = torch.device('cuda' if torch.cuda.is_available() else 'cpu')\n",
    "model = model.to(device)\n",
    "optimizer = torch.optim.Adam(model.parameters(), lr=0.005, weight_decay=5e-3)"
   ]
  },
  {
   "cell_type": "code",
   "execution_count": 26,
   "metadata": {},
   "outputs": [
    {
     "name": "stderr",
     "output_type": "stream",
     "text": [
      "[Train_loss:5.272282 Train_acc: 0.9804, Test_acc: 0.9143]: 100%|███████████████████| 3000/3000 [01:34<00:00, 31.58it/s]\n"
     ]
    }
   ],
   "source": [
    "model = train_model(epochs,model,device,ba_dataset,optimizer,test_model,get_outputs=lambda a: a[1])"
   ]
  },
  {
   "cell_type": "code",
   "execution_count": 27,
   "metadata": {},
   "outputs": [],
   "source": [
    "cdm_explainer = CDMExplainer()"
   ]
  },
  {
   "cell_type": "code",
   "execution_count": 28,
   "metadata": {},
   "outputs": [],
   "source": [
    "cdm_explainer.learn_prototypes(model, ba_dataset)"
   ]
  },
  {
   "cell_type": "code",
   "execution_count": 29,
   "metadata": {
    "scrolled": true
   },
   "outputs": [
    {
     "name": "stdout",
     "output_type": "stream",
     "text": [
      "Explanation class 0: ~feature0000000003 - acc. = 0.9214 - compl. = 1.0000\n",
      "Explanation class 1: ~feature0000000000 & ~feature0000000003 & ~feature0000000006 & ~feature0000000016 - acc. = 0.9571 - compl. = 4.0000\n",
      "Explanation class 2: feature0000000004 - acc. = 0.9357 - compl. = 1.0000\n",
      "Explanation class 3: feature0000000000 - acc. = 0.8786 - compl. = 1.0000\n"
     ]
    },
    {
     "data": {
      "text/plain": [
       "{'0': {'explanation': '~feature0000000003',\n",
       "  'explanation_accuracy': 0.9214285714285714,\n",
       "  'explanation_complexity': 1},\n",
       " '1': {'explanation': '~feature0000000000 & ~feature0000000003 & ~feature0000000006 & ~feature0000000016',\n",
       "  'explanation_accuracy': 0.9571428571428572,\n",
       "  'explanation_complexity': 4},\n",
       " '2': {'explanation': 'feature0000000004',\n",
       "  'explanation_accuracy': 0.9357142857142857,\n",
       "  'explanation_complexity': 1},\n",
       " '3': {'explanation': 'feature0000000000',\n",
       "  'explanation_accuracy': 0.8785714285714286,\n",
       "  'explanation_complexity': 1}}"
      ]
     },
     "execution_count": 29,
     "metadata": {},
     "output_type": "execute_result"
    }
   ],
   "source": [
    "cdm_explainer.get_prediction(model, ba_dataset)"
   ]
  },
  {
   "cell_type": "code",
   "execution_count": 30,
   "metadata": {},
   "outputs": [
    {
     "data": {
      "text/plain": [
       "0.6318986987631138"
      ]
     },
     "execution_count": 30,
     "metadata": {},
     "output_type": "execute_result"
    }
   ],
   "source": [
    "cdm_explainer.get_completeness(model, ba_dataset)"
   ]
  },
  {
   "cell_type": "code",
   "execution_count": 31,
   "metadata": {
    "scrolled": true
   },
   "outputs": [
    {
     "data": {
      "text/plain": [
       "tensor([[0.6199, 0.5400, 0.9972,  ..., 0.3578, 0.9577, 0.9885],\n",
       "        [0.6199, 0.5400, 0.9972,  ..., 0.3578, 0.9577, 0.9885],\n",
       "        [0.6199, 0.5400, 0.9972,  ..., 0.3578, 0.9577, 0.9885],\n",
       "        ...,\n",
       "        [0.0818, 0.0361, 0.2505,  ..., 0.0326, 0.2403, 0.2500],\n",
       "        [0.7876, 0.1046, 0.1350,  ..., 0.1945, 0.2421, 0.2558],\n",
       "        [1.0000, 0.9386, 0.5941,  ..., 0.9497, 0.6448, 0.6648]],\n",
       "       grad_fn=<DivBackward0>)"
      ]
     },
     "execution_count": 31,
     "metadata": {},
     "output_type": "execute_result"
    }
   ],
   "source": [
    "cdm_explainer.get_concepts(model, ba_dataset)"
   ]
  },
  {
   "cell_type": "markdown",
   "metadata": {},
   "source": [
    "## Adversary Methods"
   ]
  },
  {
   "cell_type": "code",
   "execution_count": 32,
   "metadata": {},
   "outputs": [],
   "source": [
    "ba_aggressive = aggressive_adversary(ba_dataset,0.1)"
   ]
  },
  {
   "cell_type": "code",
   "execution_count": 33,
   "metadata": {},
   "outputs": [
    {
     "data": {
      "text/plain": [
       "tensor([[ 44,  49,  53,  ..., 302, 518,  36],\n",
       "        [  0,   1,   2,  ..., 279, 279, 279]], dtype=torch.int32)"
      ]
     },
     "execution_count": 33,
     "metadata": {},
     "output_type": "execute_result"
    }
   ],
   "source": [
    "ba_aggressive.edge_index.int()"
   ]
  },
  {
   "cell_type": "code",
   "execution_count": 34,
   "metadata": {},
   "outputs": [
    {
     "ename": "UnboundLocalError",
     "evalue": "local variable 'vertices' referenced before assignment",
     "output_type": "error",
     "traceback": [
      "\u001b[1;31m---------------------------------------------------------------------------\u001b[0m",
      "\u001b[1;31mUnboundLocalError\u001b[0m                         Traceback (most recent call last)",
      "\u001b[1;32m<ipython-input-34-6745669208ad>\u001b[0m in \u001b[0;36m<module>\u001b[1;34m\u001b[0m\n\u001b[1;32m----> 1\u001b[1;33m \u001b[0mba_conservative\u001b[0m \u001b[1;33m=\u001b[0m \u001b[0mconservative_adversary\u001b[0m\u001b[1;33m(\u001b[0m\u001b[0mba_dataset\u001b[0m\u001b[1;33m,\u001b[0m \u001b[1;34m'BAShapes'\u001b[0m\u001b[1;33m,\u001b[0m \u001b[1;36m0.1\u001b[0m\u001b[1;33m)\u001b[0m\u001b[1;33m\u001b[0m\u001b[1;33m\u001b[0m\u001b[0m\n\u001b[0m",
      "\u001b[1;32m~\\Documents\\Cambridge\\GNN\\gnn_explainability\\src\\modify.py\u001b[0m in \u001b[0;36mconservative_adversary\u001b[1;34m(data, name, frac)\u001b[0m\n\u001b[0;32m    304\u001b[0m     \"\"\"\n\u001b[0;32m    305\u001b[0m \u001b[1;33m\u001b[0m\u001b[0m\n\u001b[1;32m--> 306\u001b[1;33m     \u001b[0mvertices\u001b[0m \u001b[1;33m=\u001b[0m \u001b[0munimportant_nodes\u001b[0m\u001b[1;33m(\u001b[0m\u001b[0mdata\u001b[0m\u001b[1;33m,\u001b[0m \u001b[0mname\u001b[0m\u001b[1;33m)\u001b[0m\u001b[1;33m\u001b[0m\u001b[1;33m\u001b[0m\u001b[0m\n\u001b[0m\u001b[0;32m    307\u001b[0m \u001b[1;33m\u001b[0m\u001b[0m\n\u001b[0;32m    308\u001b[0m     \u001b[0mfrac_nodes\u001b[0m \u001b[1;33m=\u001b[0m \u001b[0mrandom\u001b[0m\u001b[1;33m.\u001b[0m\u001b[0msample\u001b[0m\u001b[1;33m(\u001b[0m\u001b[0mvertices\u001b[0m\u001b[1;33m,\u001b[0m \u001b[0mint\u001b[0m\u001b[1;33m(\u001b[0m\u001b[0mlen\u001b[0m\u001b[1;33m(\u001b[0m\u001b[0mvertices\u001b[0m\u001b[1;33m)\u001b[0m \u001b[1;33m*\u001b[0m \u001b[0mfrac\u001b[0m\u001b[1;33m)\u001b[0m\u001b[1;33m)\u001b[0m\u001b[1;33m\u001b[0m\u001b[1;33m\u001b[0m\u001b[0m\n",
      "\u001b[1;32m~\\Documents\\Cambridge\\GNN\\gnn_explainability\\src\\modify.py\u001b[0m in \u001b[0;36munimportant_nodes\u001b[1;34m(data, name)\u001b[0m\n\u001b[0;32m    351\u001b[0m         \u001b[1;32mpass\u001b[0m\u001b[1;33m\u001b[0m\u001b[1;33m\u001b[0m\u001b[0m\n\u001b[0;32m    352\u001b[0m \u001b[1;33m\u001b[0m\u001b[0m\n\u001b[1;32m--> 353\u001b[1;33m     \u001b[1;32mreturn\u001b[0m \u001b[0mvertices\u001b[0m\u001b[1;33m\u001b[0m\u001b[1;33m\u001b[0m\u001b[0m\n\u001b[0m",
      "\u001b[1;31mUnboundLocalError\u001b[0m: local variable 'vertices' referenced before assignment"
     ]
    }
   ],
   "source": [
    "ba_conservative = conservative_adversary(ba_dataset, 'BAShapes', 0.1)"
   ]
  },
  {
   "cell_type": "code",
   "execution_count": null,
   "metadata": {},
   "outputs": [],
   "source": [
    "ba_conservative.edge_index.int()"
   ]
  },
  {
   "cell_type": "markdown",
   "metadata": {},
   "source": [
    "## Plot Prelim Results"
   ]
  },
  {
   "cell_type": "code",
   "execution_count": null,
   "metadata": {
    "pycharm": {
     "is_executing": true
    }
   },
   "outputs": [],
   "source": [
    "plot_metric('results', 'bashapes', 'fidelity_plus')\n",
    "plot_metric('results', 'bashapes', 'completeness')\n",
    "plot_difference_metric('results/concepts', 'bashapes', 'concepts')"
   ]
  },
  {
   "cell_type": "code",
   "execution_count": null,
   "metadata": {},
   "outputs": [],
   "source": []
  }
 ],
 "metadata": {
  "kernelspec": {
   "display_name": "Python 3",
   "language": "python",
   "name": "python3"
  },
  "language_info": {
   "codemirror_mode": {
    "name": "ipython",
    "version": 3
   },
   "file_extension": ".py",
   "mimetype": "text/x-python",
   "name": "python",
   "nbconvert_exporter": "python",
   "pygments_lexer": "ipython3",
   "version": "3.8.8"
  }
 },
 "nbformat": 4,
 "nbformat_minor": 4
}
