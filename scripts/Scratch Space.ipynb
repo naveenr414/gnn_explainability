{
 "cells": [
  {
   "cell_type": "code",
   "execution_count": null,
   "metadata": {
    "pycharm": {
     "is_executing": true
    }
   },
   "outputs": [],
   "source": [
    "%load_ext autoreload\n",
    "%autoreload 2"
   ]
  },
  {
   "cell_type": "code",
   "execution_count": 2,
   "metadata": {
    "pycharm": {
     "is_executing": true
    }
   },
   "outputs": [],
   "source": [
    "import torch"
   ]
  },
  {
   "cell_type": "code",
   "execution_count": 3,
   "metadata": {},
   "outputs": [],
   "source": [
    "from torch_geometric.data import Data, DataLoader\n",
    "from torch_geometric.datasets import TUDataset, Planetoid\n",
    "from torch_geometric.nn import GCNConv, Set2Set, GNNExplainer\n",
    "import torch_geometric.transforms as T\n",
    "import torch\n",
    "import torch.nn.functional as F\n",
    "import os\n",
    "\n",
    "import matplotlib.pyplot as plt\n",
    "from dgl.data import BACommunityDataset\n",
    "import networkx as nx\n",
    "import torch_geometric\n",
    "import dgl\n"
   ]
  },
  {
   "cell_type": "code",
   "execution_count": 5,
   "metadata": {},
   "outputs": [],
   "source": [
    "from src.model import *\n",
    "from src.data import *\n",
    "from src.explainer import *\n",
    "from src.plot import *\n",
    "from src.modify import *\n",
    "from src.protgnn import *"
   ]
  },
  {
   "cell_type": "code",
   "execution_count": 6,
   "metadata": {},
   "outputs": [
    {
     "name": "stdout",
     "output_type": "stream",
     "text": [
      "Done loading data from cached files.\n"
     ]
    },
    {
     "name": "stderr",
     "output_type": "stream",
     "text": [
      "C:\\Users\\Yurt\\anaconda3\\lib\\site-packages\\torch_geometric\\deprecation.py:13: UserWarning: 'data.DataLoader' is deprecated, use 'loader.DataLoader' instead\n",
      "  warnings.warn(out)\n"
     ]
    }
   ],
   "source": [
    "ba_dataset = get_dataset(\"BAShapes\")"
   ]
  },
  {
   "cell_type": "code",
   "execution_count": 7,
   "metadata": {},
   "outputs": [],
   "source": [
    "num_classes = len(set([int(i) for i in ba_dataset.y]))\n",
    "num_features = ba_dataset.x.shape[-1]"
   ]
  },
  {
   "cell_type": "code",
   "execution_count": 8,
   "metadata": {},
   "outputs": [],
   "source": [
    "epochs = 3000\n",
    "dim = 20"
   ]
  },
  {
   "cell_type": "markdown",
   "metadata": {},
   "source": [
    "## GCExplainer"
   ]
  },
  {
   "cell_type": "code",
   "execution_count": 9,
   "metadata": {},
   "outputs": [],
   "source": [
    "device = torch.device('cuda' if torch.cuda.is_available() else 'cpu')\n",
    "model = Net(num_features=num_features, dim=dim, num_classes=num_classes).to(device)\n",
    "optimizer = torch.optim.Adam(model.parameters(), lr=0.01, weight_decay=5e-3)\n"
   ]
  },
  {
   "cell_type": "code",
   "execution_count": 10,
   "metadata": {},
   "outputs": [
    {
     "name": "stderr",
     "output_type": "stream",
     "text": [
      "[Train_loss:0.179172 Train_acc: 0.9750, Test_acc: 0.9071]: 100%|███████████████████| 3000/3000 [00:32<00:00, 92.35it/s]\n"
     ]
    }
   ],
   "source": [
    "model = train_model(epochs,model,device,ba_dataset,optimizer,test_model)"
   ]
  },
  {
   "cell_type": "code",
   "execution_count": 11,
   "metadata": {},
   "outputs": [],
   "source": [
    "gce_explainer = GCExplainer()"
   ]
  },
  {
   "cell_type": "code",
   "execution_count": 12,
   "metadata": {},
   "outputs": [
    {
     "name": "stderr",
     "output_type": "stream",
     "text": [
      "C:\\Users\\Yurt\\anaconda3\\lib\\site-packages\\sklearn\\cluster\\_kmeans.py:870: FutureWarning: The default value of `n_init` will change from 10 to 'auto' in 1.4. Set the value of `n_init` explicitly to suppress the warning\n",
      "  warnings.warn(\n",
      "C:\\Users\\Yurt\\anaconda3\\lib\\site-packages\\sklearn\\cluster\\_kmeans.py:1382: UserWarning: KMeans is known to have a memory leak on Windows with MKL, when there are less chunks than available threads. You can avoid it by setting the environment variable OMP_NUM_THREADS=3.\n",
      "  warnings.warn(\n"
     ]
    }
   ],
   "source": [
    "gce_explainer.learn_prototypes(model,ba_dataset)"
   ]
  },
  {
   "cell_type": "code",
   "execution_count": 13,
   "metadata": {},
   "outputs": [
    {
     "data": {
      "text/plain": [
       "array([3, 3, 0, 3, 1, 0, 3, 3, 0, 0, 2, 0, 1, 2, 2, 0, 3, 3, 0, 3, 0, 2,\n",
       "       2, 3, 2, 3, 2, 0, 0, 0, 2, 2, 3, 3, 3, 0, 0, 0, 3, 3, 2, 0, 2, 2,\n",
       "       0, 0, 3, 2, 3, 0, 0, 3, 2, 3, 0, 2, 3, 1, 0, 0, 2, 1, 0, 2, 3, 3,\n",
       "       3, 3, 0, 3, 2, 2, 2, 0, 2, 0, 0, 1, 3, 0, 2, 2, 0, 3, 0, 0, 0, 3,\n",
       "       0, 0, 3, 0, 3, 0, 0, 3, 0, 3, 0, 0, 1, 1, 3, 0, 0, 0, 0, 0, 0, 0,\n",
       "       0, 0, 0, 0, 0, 0, 0, 0, 0, 0, 0, 0, 0, 0, 0, 0, 0, 0, 3, 0, 0, 0,\n",
       "       0, 2, 0, 3, 0, 0, 2, 1], dtype=int64)"
      ]
     },
     "execution_count": 13,
     "metadata": {},
     "output_type": "execute_result"
    }
   ],
   "source": [
    "gce_explainer.get_prediction(model,ba_dataset)"
   ]
  },
  {
   "cell_type": "code",
   "execution_count": 14,
   "metadata": {},
   "outputs": [
    {
     "data": {
      "image/png": "[encoded data removed]",
      "text/plain": [
       "<Figure size 432x288 with 1 Axes>"
      ]
     },
     "metadata": {
      "needs_background": "light"
     },
     "output_type": "display_data"
    }
   ],
   "source": [
    "plot_kmeans_clusters(gce_explainer.kmeans,gce_explainer.initial_activations)"
   ]
  },
  {
   "cell_type": "code",
   "execution_count": 15,
   "metadata": {},
   "outputs": [
    {
     "data": {
      "text/plain": [
       "array([3, 3, 0, 3, 1, 0, 3, 3, 0, 0, 2, 0, 1, 2, 2, 0, 3, 3, 0, 3, 0, 2,\n",
       "       2, 3, 2, 3, 2, 0, 0, 0, 2, 2, 3, 3, 3, 0, 0, 0, 3, 3, 2, 0, 2, 2,\n",
       "       0, 0, 3, 2, 3, 0, 0, 3, 2, 3, 0, 2, 3, 1, 0, 0, 2, 1, 0, 2, 3, 3,\n",
       "       3, 3, 0, 3, 2, 2, 2, 0, 2, 0, 0, 1, 3, 0, 2, 2, 0, 3, 0, 0, 0, 3,\n",
       "       0, 0, 3, 0, 3, 0, 0, 3, 0, 3, 0, 0, 1, 1, 3, 0, 0, 0, 0, 0, 0, 0,\n",
       "       0, 0, 0, 0, 0, 0, 0, 0, 0, 0, 0, 0, 0, 0, 0, 0, 0, 0, 3, 0, 0, 0,\n",
       "       0, 2, 0, 3, 0, 0, 2, 1], dtype=int64)"
      ]
     },
     "execution_count": 15,
     "metadata": {},
     "output_type": "execute_result"
    }
   ],
   "source": [
    "gce_explainer.get_prediction(model,identity(ba_dataset))"
   ]
  },
  {
   "cell_type": "markdown",
   "metadata": {},
   "source": [
    "## ProtGNN"
   ]
  },
  {
   "cell_type": "code",
   "execution_count": 16,
   "metadata": {},
   "outputs": [],
   "source": [
    "model = GCNNet_NC(num_features, num_classes, model_args).to(device)"
   ]
  },
  {
   "cell_type": "code",
   "execution_count": 17,
   "metadata": {},
   "outputs": [
    {
     "ename": "FileNotFoundError",
     "evalue": "[Errno 2] No such file or directory: '../models/protgnn_bashapes.pt'",
     "output_type": "error",
     "traceback": [
      "\u001B[1;31m---------------------------------------------------------------------------\u001B[0m",
      "\u001B[1;31mFileNotFoundError\u001B[0m                         Traceback (most recent call last)",
      "\u001B[1;32m<ipython-input-17-b31398f19a82>\u001B[0m in \u001B[0;36m<module>\u001B[1;34m\u001B[0m\n\u001B[1;32m----> 1\u001B[1;33m \u001B[0mmodel\u001B[0m\u001B[1;33m.\u001B[0m\u001B[0mload_state_dict\u001B[0m\u001B[1;33m(\u001B[0m\u001B[0mtorch\u001B[0m\u001B[1;33m.\u001B[0m\u001B[0mload\u001B[0m\u001B[1;33m(\u001B[0m\u001B[1;34m\"../models/protgnn_bashapes.pt\"\u001B[0m\u001B[1;33m)\u001B[0m\u001B[1;33m)\u001B[0m\u001B[1;33m\u001B[0m\u001B[1;33m\u001B[0m\u001B[0m\n\u001B[0m",
      "\u001B[1;32m~\\anaconda3\\lib\\site-packages\\torch\\serialization.py\u001B[0m in \u001B[0;36mload\u001B[1;34m(f, map_location, pickle_module, **pickle_load_args)\u001B[0m\n\u001B[0;32m    592\u001B[0m         \u001B[0mpickle_load_args\u001B[0m\u001B[1;33m[\u001B[0m\u001B[1;34m'encoding'\u001B[0m\u001B[1;33m]\u001B[0m \u001B[1;33m=\u001B[0m \u001B[1;34m'utf-8'\u001B[0m\u001B[1;33m\u001B[0m\u001B[1;33m\u001B[0m\u001B[0m\n\u001B[0;32m    593\u001B[0m \u001B[1;33m\u001B[0m\u001B[0m\n\u001B[1;32m--> 594\u001B[1;33m     \u001B[1;32mwith\u001B[0m \u001B[0m_open_file_like\u001B[0m\u001B[1;33m(\u001B[0m\u001B[0mf\u001B[0m\u001B[1;33m,\u001B[0m \u001B[1;34m'rb'\u001B[0m\u001B[1;33m)\u001B[0m \u001B[1;32mas\u001B[0m \u001B[0mopened_file\u001B[0m\u001B[1;33m:\u001B[0m\u001B[1;33m\u001B[0m\u001B[1;33m\u001B[0m\u001B[0m\n\u001B[0m\u001B[0;32m    595\u001B[0m         \u001B[1;32mif\u001B[0m \u001B[0m_is_zipfile\u001B[0m\u001B[1;33m(\u001B[0m\u001B[0mopened_file\u001B[0m\u001B[1;33m)\u001B[0m\u001B[1;33m:\u001B[0m\u001B[1;33m\u001B[0m\u001B[1;33m\u001B[0m\u001B[0m\n\u001B[0;32m    596\u001B[0m             \u001B[1;31m# The zipfile reader is going to advance the current file position.\u001B[0m\u001B[1;33m\u001B[0m\u001B[1;33m\u001B[0m\u001B[1;33m\u001B[0m\u001B[0m\n",
      "\u001B[1;32m~\\anaconda3\\lib\\site-packages\\torch\\serialization.py\u001B[0m in \u001B[0;36m_open_file_like\u001B[1;34m(name_or_buffer, mode)\u001B[0m\n\u001B[0;32m    228\u001B[0m \u001B[1;32mdef\u001B[0m \u001B[0m_open_file_like\u001B[0m\u001B[1;33m(\u001B[0m\u001B[0mname_or_buffer\u001B[0m\u001B[1;33m,\u001B[0m \u001B[0mmode\u001B[0m\u001B[1;33m)\u001B[0m\u001B[1;33m:\u001B[0m\u001B[1;33m\u001B[0m\u001B[1;33m\u001B[0m\u001B[0m\n\u001B[0;32m    229\u001B[0m     \u001B[1;32mif\u001B[0m \u001B[0m_is_path\u001B[0m\u001B[1;33m(\u001B[0m\u001B[0mname_or_buffer\u001B[0m\u001B[1;33m)\u001B[0m\u001B[1;33m:\u001B[0m\u001B[1;33m\u001B[0m\u001B[1;33m\u001B[0m\u001B[0m\n\u001B[1;32m--> 230\u001B[1;33m         \u001B[1;32mreturn\u001B[0m \u001B[0m_open_file\u001B[0m\u001B[1;33m(\u001B[0m\u001B[0mname_or_buffer\u001B[0m\u001B[1;33m,\u001B[0m \u001B[0mmode\u001B[0m\u001B[1;33m)\u001B[0m\u001B[1;33m\u001B[0m\u001B[1;33m\u001B[0m\u001B[0m\n\u001B[0m\u001B[0;32m    231\u001B[0m     \u001B[1;32melse\u001B[0m\u001B[1;33m:\u001B[0m\u001B[1;33m\u001B[0m\u001B[1;33m\u001B[0m\u001B[0m\n\u001B[0;32m    232\u001B[0m         \u001B[1;32mif\u001B[0m \u001B[1;34m'w'\u001B[0m \u001B[1;32min\u001B[0m \u001B[0mmode\u001B[0m\u001B[1;33m:\u001B[0m\u001B[1;33m\u001B[0m\u001B[1;33m\u001B[0m\u001B[0m\n",
      "\u001B[1;32m~\\anaconda3\\lib\\site-packages\\torch\\serialization.py\u001B[0m in \u001B[0;36m__init__\u001B[1;34m(self, name, mode)\u001B[0m\n\u001B[0;32m    209\u001B[0m \u001B[1;32mclass\u001B[0m \u001B[0m_open_file\u001B[0m\u001B[1;33m(\u001B[0m\u001B[0m_opener\u001B[0m\u001B[1;33m)\u001B[0m\u001B[1;33m:\u001B[0m\u001B[1;33m\u001B[0m\u001B[1;33m\u001B[0m\u001B[0m\n\u001B[0;32m    210\u001B[0m     \u001B[1;32mdef\u001B[0m \u001B[0m__init__\u001B[0m\u001B[1;33m(\u001B[0m\u001B[0mself\u001B[0m\u001B[1;33m,\u001B[0m \u001B[0mname\u001B[0m\u001B[1;33m,\u001B[0m \u001B[0mmode\u001B[0m\u001B[1;33m)\u001B[0m\u001B[1;33m:\u001B[0m\u001B[1;33m\u001B[0m\u001B[1;33m\u001B[0m\u001B[0m\n\u001B[1;32m--> 211\u001B[1;33m         \u001B[0msuper\u001B[0m\u001B[1;33m(\u001B[0m\u001B[0m_open_file\u001B[0m\u001B[1;33m,\u001B[0m \u001B[0mself\u001B[0m\u001B[1;33m)\u001B[0m\u001B[1;33m.\u001B[0m\u001B[0m__init__\u001B[0m\u001B[1;33m(\u001B[0m\u001B[0mopen\u001B[0m\u001B[1;33m(\u001B[0m\u001B[0mname\u001B[0m\u001B[1;33m,\u001B[0m \u001B[0mmode\u001B[0m\u001B[1;33m)\u001B[0m\u001B[1;33m)\u001B[0m\u001B[1;33m\u001B[0m\u001B[1;33m\u001B[0m\u001B[0m\n\u001B[0m\u001B[0;32m    212\u001B[0m \u001B[1;33m\u001B[0m\u001B[0m\n\u001B[0;32m    213\u001B[0m     \u001B[1;32mdef\u001B[0m \u001B[0m__exit__\u001B[0m\u001B[1;33m(\u001B[0m\u001B[0mself\u001B[0m\u001B[1;33m,\u001B[0m \u001B[1;33m*\u001B[0m\u001B[0margs\u001B[0m\u001B[1;33m)\u001B[0m\u001B[1;33m:\u001B[0m\u001B[1;33m\u001B[0m\u001B[1;33m\u001B[0m\u001B[0m\n",
      "\u001B[1;31mFileNotFoundError\u001B[0m: [Errno 2] No such file or directory: '../models/protgnn_bashapes.pt'"
     ]
    }
   ],
   "source": [
    "model.load_state_dict(torch.load(\"../models/protgnn_bashapes.pt\"))"
   ]
  },
  {
   "cell_type": "code",
   "execution_count": 18,
   "metadata": {},
   "outputs": [],
   "source": [
    "optimizer = torch.optim.Adam(model.parameters(), lr=0.005, weight_decay=5e-3)"
   ]
  },
  {
   "cell_type": "code",
   "execution_count": 19,
   "metadata": {},
   "outputs": [
    {
     "name": "stderr",
     "output_type": "stream",
     "text": [
      "[Train_loss:0.100143 Train_acc: 0.9786, Test_acc: 0.9357]: 100%|█████████████████████| 300/300 [00:08<00:00, 34.74it/s]\n"
     ]
    }
   ],
   "source": [
    "model = train_model(300,model,device,ba_dataset,optimizer,test_model,get_outputs=lambda a: a[1])"
   ]
  },
  {
   "cell_type": "code",
   "execution_count": 20,
   "metadata": {},
   "outputs": [],
   "source": [
    "prot_explainer = ProtGNNExplainer()"
   ]
  },
  {
   "cell_type": "code",
   "execution_count": 21,
   "metadata": {},
   "outputs": [],
   "source": [
    "prot_explainer.learn_prototypes(model,ba_dataset)"
   ]
  },
  {
   "cell_type": "code",
   "execution_count": 22,
   "metadata": {},
   "outputs": [
    {
     "data": {
      "text/plain": [
       "array([19, 19, 19, 19, 19, 19, 19, 19, 19, 19, 19, 19, 19, 19, 19, 19, 19,\n",
       "       19, 19, 19, 19, 19, 19, 19, 19, 19, 19, 19, 19, 19, 19, 19, 19, 19,\n",
       "       19, 19, 19, 19, 19, 19, 19, 19, 19, 19,  8, 17, 17, 19, 19,  8, 17,\n",
       "       17, 19,  8, 17, 17, 19,  8, 17, 17,  8, 17, 17, 19, 19,  8, 17, 17,\n",
       "       19, 19, 19, 17,  8, 17, 19, 19,  8, 17, 17, 19, 19,  8, 17, 17,  8,\n",
       "       17, 17,  8, 17, 17,  8, 17, 17, 19,  8, 17, 17,  8, 17, 17,  8, 17,\n",
       "       17,  8, 19, 17,  8, 17, 17,  8, 17, 17,  8, 17, 17,  8, 17, 17,  8,\n",
       "       17, 17,  8, 17, 17,  8, 17, 17,  8, 17, 17,  8, 17, 17,  8, 17, 17,\n",
       "        8, 17, 17,  8, 17, 17,  8, 17, 17,  8, 17, 17,  8, 17, 17,  8, 17,\n",
       "       17,  8, 17, 17, 19,  8,  5, 17,  8, 17, 17,  8, 17, 17, 17, 19, 19,\n",
       "       19,  8, 17, 17,  8, 17, 17, 19, 19, 17,  8, 17, 17,  8, 17, 17, 19,\n",
       "       19,  8, 17,  8, 17,  8, 17, 17,  8, 17, 17,  8, 17, 17, 19, 19,  8,\n",
       "       17, 17,  8, 17, 17, 19,  8, 17, 17,  8, 17, 17,  5, 19, 19,  8,  3,\n",
       "       17, 17,  8, 17, 17,  5,  8, 17, 17, 19,  8, 17, 17,  5,  8, 17, 17,\n",
       "        5,  5, 17,  8, 17, 17,  8, 19, 19, 17, 17, 19,  8, 17, 17,  5, 17,\n",
       "       19, 17,  8, 17,  8, 17, 17,  8, 17, 17,  5,  5,  8, 17, 17,  8, 17,\n",
       "       17,  5,  8, 17, 17,  8, 17, 17,  5,  5,  5,  5,  8, 17, 17, 19,  5,\n",
       "        5,  5,  5,  5,  5,  5,  5,  5,  5,  5,  5,  5,  5,  5,  5,  5,  5,\n",
       "        5,  5,  5,  8, 17, 17,  8,  5,  3,  5,  5,  8, 17, 17, 19, 19,  5,\n",
       "        5,  8, 17, 17,  8,  5,  5,  8, 17, 17,  8, 17, 17,  5,  5,  5,  5,\n",
       "        5,  8, 17, 17,  3, 17,  5,  5,  8, 17, 17,  5,  3,  5,  4,  8, 17,\n",
       "       17,  5,  3,  5,  3,  5,  8, 17, 17,  5,  4,  5,  3,  4,  3, 17,  5,\n",
       "        8, 19, 17, 17, 17, 17,  3,  3,  8, 17, 17,  4,  3,  3, 19,  5,  4,\n",
       "        3, 17,  8, 17, 17,  3,  3,  3,  3,  5,  5,  3,  5,  3,  4,  3,  4,\n",
       "        3,  3,  3,  3,  3,  5,  2,  5,  4,  4, 19,  3, 19,  4,  3,  5,  3,\n",
       "        3,  3,  4,  3,  5,  3,  3,  4,  3,  4,  4,  3,  3,  4,  3,  3,  3,\n",
       "        5,  4,  4,  4,  4,  4,  4,  3,  4,  4,  3,  4,  4,  4,  4,  3,  4,\n",
       "        3,  3,  4,  4,  4,  4,  4,  8,  8,  4,  4,  8,  3,  4,  4,  4,  4,\n",
       "        4,  4,  4,  8,  4,  8,  4,  4,  4,  3,  3,  4,  4,  4,  3,  4,  3,\n",
       "        3,  3,  5,  4,  4,  3,  4,  4,  3,  3,  3,  4,  3,  4,  4,  4,  4,\n",
       "        5,  4,  4,  4,  3,  3,  3,  5,  4,  4,  3,  4,  3,  3,  3,  4,  3,\n",
       "        4,  3,  5,  4,  4,  3,  4,  3,  5,  4,  4,  3,  3,  3,  3,  4,  4,\n",
       "        4,  3,  4,  3,  3,  4,  4,  8,  3,  5,  3,  3,  3,  4,  3,  3,  3,\n",
       "        3,  4,  3,  2,  4,  3,  3,  4,  4,  4,  4,  3,  8,  5,  4, 19,  3,\n",
       "        3,  3,  3,  4,  4,  3,  3,  3,  5,  4,  4,  4,  3,  3,  3,  3,  3,\n",
       "        4,  4,  4,  3,  3,  5,  4,  4,  8,  4,  4,  3,  4,  3,  4,  4,  3,\n",
       "        4,  3,  4,  4,  3, 14,  4,  4,  5, 14,  4,  4,  3,  3,  3,  3,  4,\n",
       "        3,  5,  4,  3,  4,  8,  4,  4,  3,  3,  4,  3,  8,  4,  3,  4,  3,\n",
       "        4,  3,  4,  4,  3,  4,  3,  4,  4,  3,  8, 19,  4,  4, 17, 17, 19,\n",
       "        4,  4,  4,  4,  4,  4,  4,  4,  4,  4,  4,  4,  4,  4,  4,  4,  3,\n",
       "        4,  4,  4,  4,  4,  4,  4,  4,  3,  4,  4,  3,  3,  3,  3,  3,  3,\n",
       "        4,  5, 17], dtype=int64)"
      ]
     },
     "execution_count": 22,
     "metadata": {},
     "output_type": "execute_result"
    }
   ],
   "source": [
    "prot_explainer.get_prediction(model,ba_dataset)"
   ]
  },
  {
   "cell_type": "markdown",
   "metadata": {},
   "source": [
    "## CDM"
   ]
  },
  {
   "cell_type": "code",
   "execution_count": 23,
   "metadata": {},
   "outputs": [],
   "source": [
    "model = GCN(num_features=num_features, dim=dim, num_classes=num_classes)"
   ]
  },
  {
   "cell_type": "code",
   "execution_count": 24,
   "metadata": {},
   "outputs": [],
   "source": [
    "device = torch.device('cuda' if torch.cuda.is_available() else 'cpu')\n",
    "model = model.to(device)\n",
    "optimizer = torch.optim.Adam(model.parameters(), lr=0.005, weight_decay=5e-3)"
   ]
  },
  {
   "cell_type": "code",
   "execution_count": 28,
   "metadata": {},
   "outputs": [
    {
     "name": "stderr",
     "output_type": "stream",
     "text": [
      "[Train_loss:5.255492 Train_acc: 0.9857, Test_acc: 0.9214]: 100%|███████████████████| 3000/3000 [00:50<00:00, 59.67it/s]\n"
     ]
    }
   ],
   "source": [
    "model = train_model(epochs,model,device,ba_dataset,optimizer,test_model,get_outputs=lambda a: a[1])"
   ]
  },
  {
   "cell_type": "code",
   "execution_count": 29,
   "metadata": {},
   "outputs": [],
   "source": [
    "cdm_explainer = CDMExplainer()"
   ]
  },
  {
   "cell_type": "code",
   "execution_count": 30,
   "metadata": {},
   "outputs": [],
   "source": [
    "cdm_explainer.learn_prototypes(model, ba_dataset)"
   ]
  },
  {
   "cell_type": "code",
   "execution_count": 32,
   "metadata": {
    "scrolled": true
   },
   "outputs": [
    {
     "name": "stdout",
     "output_type": "stream",
     "text": [
      "Explanation class 0: ~feature0000000000 - acc. = 0.9357 - compl. = 1.0000\n",
      "Explanation class 1: ~feature0000000000 & ~feature0000000003 & ~feature0000000011 & ~feature0000000015 - acc. = 0.9571 - compl. = 4.0000\n",
      "Explanation class 2: feature0000000010 - acc. = 0.9357 - compl. = 1.0000\n",
      "Explanation class 3: feature0000000008 - acc. = 0.8786 - compl. = 1.0000\n"
     ]
    },
    {
     "data": {
      "text/plain": [
       "{'0': {'explanation': '~feature0000000000',\n",
       "  'explanation_accuracy': 0.9357142857142857,\n",
       "  'explanation_complexity': 1},\n",
       " '1': {'explanation': '~feature0000000000 & ~feature0000000003 & ~feature0000000011 & ~feature0000000015',\n",
       "  'explanation_accuracy': 0.9571428571428572,\n",
       "  'explanation_complexity': 4},\n",
       " '2': {'explanation': 'feature0000000010',\n",
       "  'explanation_accuracy': 0.9357142857142857,\n",
       "  'explanation_complexity': 1},\n",
       " '3': {'explanation': 'feature0000000008',\n",
       "  'explanation_accuracy': 0.8785714285714286,\n",
       "  'explanation_complexity': 1}}"
      ]
     },
     "execution_count": 32,
     "metadata": {},
     "output_type": "execute_result"
    }
   ],
   "source": [
    "cdm_explainer.get_prediction(model, ba_dataset)"
   ]
  },
  {
   "cell_type": "markdown",
   "metadata": {},
   "source": [
    "## Adversary Methods"
   ]
  },
  {
   "cell_type": "code",
   "execution_count": 33,
   "metadata": {},
   "outputs": [],
   "source": [
    "ba_aggressive = aggressive_adversary(ba_dataset,0.1)"
   ]
  },
  {
   "cell_type": "code",
   "execution_count": 34,
   "metadata": {},
   "outputs": [
    {
     "data": {
      "text/plain": [
       "tensor([[ 44,  49,  53,  ..., 110, 110,  39],\n",
       "        [  0,   1,   2,  ..., 628, 186, 602]], dtype=torch.int32)"
      ]
     },
     "execution_count": 34,
     "metadata": {},
     "output_type": "execute_result"
    }
   ],
   "source": [
    "ba_aggressive.edge_index.int()"
   ]
  },
  {
   "cell_type": "code",
   "execution_count": 35,
   "metadata": {},
   "outputs": [],
   "source": [
    "ba_conservative = conservative_adversary(ba_dataset, 'BAShapes', 0.1)"
   ]
  },
  {
   "cell_type": "code",
   "execution_count": 36,
   "metadata": {},
   "outputs": [
    {
     "data": {
      "text/plain": [
       "tensor([[ 44,  49,  53,  ..., 639, 694, 694],\n",
       "        [  0,   1,   2,  ..., 464, 464, 635]], dtype=torch.int32)"
      ]
     },
     "execution_count": 36,
     "metadata": {},
     "output_type": "execute_result"
    }
   ],
   "source": [
    "ba_conservative.edge_index.int()"
   ]
  },
  {
   "cell_type": "markdown",
   "source": [
    "## Plot Prelim Results"
   ],
   "metadata": {
    "collapsed": false
   }
  },
  {
   "cell_type": "code",
   "execution_count": null,
   "outputs": [],
   "source": [
    "plot_metric('results', 'bashapes', 'Fidelity')"
   ],
   "metadata": {
    "collapsed": false,
    "pycharm": {
     "is_executing": true
    }
   }
  }
 ],
 "metadata": {
  "kernelspec": {
   "display_name": "Python 3",
   "language": "python",
   "name": "python3"
  },
  "language_info": {
   "codemirror_mode": {
    "name": "ipython",
    "version": 3
   },
   "file_extension": ".py",
   "mimetype": "text/x-python",
   "name": "python",
   "nbconvert_exporter": "python",
   "pygments_lexer": "ipython3",
   "version": "3.8.8"
  }
 },
 "nbformat": 4,
 "nbformat_minor": 4
}
