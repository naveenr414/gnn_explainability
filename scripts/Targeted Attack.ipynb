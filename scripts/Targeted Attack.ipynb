{
 "cells": [
  {
   "cell_type": "code",
   "execution_count": 1,
   "id": "c399e856",
   "metadata": {
    "pycharm": {
     "is_executing": true
    }
   },
   "outputs": [],
   "source": [
    "%load_ext autoreload\n",
    "%autoreload 2"
   ]
  },
  {
   "cell_type": "code",
   "execution_count": 2,
   "id": "9758ec94",
   "metadata": {
    "pycharm": {
     "is_executing": true
    }
   },
   "outputs": [],
   "source": [
    "import torch"
   ]
  },
  {
   "cell_type": "code",
   "execution_count": 378,
   "id": "5b95dec0",
   "metadata": {},
   "outputs": [],
   "source": [
    "from torch_geometric.data import Data, DataLoader\n",
    "from torch_geometric.datasets import TUDataset, Planetoid\n",
    "from torch_geometric.nn import GCNConv, Set2Set, GNNExplainer\n",
    "import torch_geometric.transforms as T\n",
    "import torch\n",
    "import torch.nn.functional as F\n",
    "import os\n",
    "\n",
    "import matplotlib.pyplot as plt\n",
    "from dgl.data import BACommunityDataset\n",
    "import networkx as nx\n",
    "import torch_geometric\n",
    "import dgl\n",
    "from copy import deepcopy, copy\n",
    "import time\n"
   ]
  },
  {
   "cell_type": "code",
   "execution_count": 4,
   "id": "8e9b44bb",
   "metadata": {},
   "outputs": [],
   "source": [
    "from src.model import *\n",
    "from src.data import *\n",
    "from src.explainer import *\n",
    "from src.plot import *\n",
    "from src.modify import *\n",
    "from src.protgnn import *\n",
    "from src.util import *"
   ]
  },
  {
   "cell_type": "code",
   "execution_count": 5,
   "id": "22c47970",
   "metadata": {},
   "outputs": [
    {
     "name": "stdout",
     "output_type": "stream",
     "text": [
      "Done loading data from cached files.\n"
     ]
    },
    {
     "name": "stderr",
     "output_type": "stream",
     "text": [
      "/rds/user/njr61/hpc-work/anaconda3/envs/gnn/lib/python3.9/site-packages/torch_geometric/deprecation.py:13: UserWarning: 'data.DataLoader' is deprecated, use 'loader.DataLoader' instead\n",
      "  warnings.warn(out)\n"
     ]
    }
   ],
   "source": [
    "ba_dataset = get_dataset(\"BAShapes\")"
   ]
  },
  {
   "cell_type": "code",
   "execution_count": 6,
   "id": "03c1a525",
   "metadata": {},
   "outputs": [],
   "source": [
    "num_classes = len(set([int(i) for i in ba_dataset.y]))\n",
    "num_features = ba_dataset.x.shape[-1]"
   ]
  },
  {
   "cell_type": "code",
   "execution_count": 7,
   "id": "526b05da",
   "metadata": {},
   "outputs": [],
   "source": [
    "epochs = 3000\n",
    "dim = 20"
   ]
  },
  {
   "cell_type": "markdown",
   "id": "18440220",
   "metadata": {},
   "source": [
    "## Model Setup"
   ]
  },
  {
   "cell_type": "code",
   "execution_count": 8,
   "id": "def1e92d",
   "metadata": {},
   "outputs": [],
   "source": [
    "device = torch.device('cuda' if torch.cuda.is_available() else 'cpu')"
   ]
  },
  {
   "cell_type": "code",
   "execution_count": 9,
   "id": "3d497819",
   "metadata": {},
   "outputs": [],
   "source": [
    "model = NetSmall(num_features=num_features, dim=dim, num_classes=num_classes).to(device)"
   ]
  },
  {
   "cell_type": "code",
   "execution_count": 10,
   "id": "0e78009b",
   "metadata": {},
   "outputs": [],
   "source": [
    "optimizer = torch.optim.Adam(model.parameters(), lr=0.01, weight_decay=5e-3)"
   ]
  },
  {
   "cell_type": "code",
   "execution_count": 11,
   "id": "0d21528e",
   "metadata": {},
   "outputs": [
    {
     "name": "stderr",
     "output_type": "stream",
     "text": [
      "[Train_loss:1.326829 Train_acc: 0.2679, Test_acc: 0.0714]: 100%|█| 3000/300\n"
     ]
    }
   ],
   "source": [
    "model = train_model(epochs,model,device,ba_dataset,optimizer,test_model)"
   ]
  },
  {
   "cell_type": "code",
   "execution_count": 12,
   "id": "074fb51f",
   "metadata": {},
   "outputs": [
    {
     "data": {
      "text/plain": [
       "NetSmall(\n",
       "  (conv1): GCNConv(1, 20)\n",
       "  (conv2): GCNConv(20, 20)\n",
       "  (linear): Linear(in_features=20, out_features=4, bias=False)\n",
       ")"
      ]
     },
     "execution_count": 12,
     "metadata": {},
     "output_type": "execute_result"
    }
   ],
   "source": [
    "model.eval()"
   ]
  },
  {
   "cell_type": "code",
   "execution_count": 13,
   "id": "9aef5866",
   "metadata": {},
   "outputs": [],
   "source": [
    "gce_explainer = GCExplainer(layer_name=\"conv2\")"
   ]
  },
  {
   "cell_type": "code",
   "execution_count": 14,
   "id": "2f53b708",
   "metadata": {},
   "outputs": [
    {
     "name": "stderr",
     "output_type": "stream",
     "text": [
      "/rds/user/njr61/hpc-work/anaconda3/envs/gnn/lib/python3.9/site-packages/sklearn/cluster/_kmeans.py:870: FutureWarning: The default value of `n_init` will change from 10 to 'auto' in 1.4. Set the value of `n_init` explicitly to suppress the warning\n",
      "  warnings.warn(\n"
     ]
    }
   ],
   "source": [
    "gce_explainer.learn_prototypes(model,ba_dataset)"
   ]
  },
  {
   "cell_type": "code",
   "execution_count": 15,
   "id": "43e6ba58",
   "metadata": {},
   "outputs": [
    {
     "data": {
      "text/plain": [
       "array([2, 3, 3, 0, 3, 3, 0, 2, 3, 3, 0, 3, 0, 3, 3, 0, 3, 2, 0, 1, 3, 3,\n",
       "       0, 3, 3, 1, 1, 3, 2, 0, 0, 0, 3, 1, 2, 3, 0, 3, 3, 2, 2, 0, 3, 3,\n",
       "       1, 3, 3, 0, 0, 2, 1, 1, 2, 2, 2, 3, 3, 1, 1, 2, 2, 2, 3, 3, 0, 0,\n",
       "       0, 2, 2, 3, 0, 1, 2, 2, 2, 2, 0, 0, 0, 3, 3, 0, 2, 3, 3, 1, 0, 0,\n",
       "       0, 0, 3, 1, 0, 2, 0, 0, 1, 2, 2, 0, 3, 1, 0, 3, 3, 0, 1, 1, 3, 1,\n",
       "       0, 2, 2, 3, 3, 2, 3, 0, 2, 3, 0, 3, 2, 3, 0, 3, 3, 1, 1, 0, 3, 3,\n",
       "       1, 3, 0, 1, 1, 2, 2, 1])"
      ]
     },
     "execution_count": 15,
     "metadata": {},
     "output_type": "execute_result"
    }
   ],
   "source": [
    "gce_explainer.get_prediction(model,ba_dataset)"
   ]
  },
  {
   "cell_type": "code",
   "execution_count": 16,
   "id": "4fa62325",
   "metadata": {
    "scrolled": true
   },
   "outputs": [
    {
     "data": {
      "image/png": "[encoded data removed]",
      "text/plain": [
       "<Figure size 640x480 with 1 Axes>"
      ]
     },
     "metadata": {},
     "output_type": "display_data"
    }
   ],
   "source": [
    "plot_kmeans_clusters(gce_explainer.kmeans,gce_explainer.initial_activations)"
   ]
  },
  {
   "cell_type": "markdown",
   "id": "6bb270ed",
   "metadata": {},
   "source": [
    "## Low-Level Matrices"
   ]
  },
  {
   "cell_type": "code",
   "execution_count": 17,
   "id": "512979e5",
   "metadata": {},
   "outputs": [],
   "source": [
    "num_nodes = ba_dataset.num_nodes\n",
    "num_features = ba_dataset.num_features\n",
    "edge_index = ba_dataset.edge_index\n",
    "targeted_node = 5\n",
    "num_gcn_layers = sum(1 for module in model.modules() if isinstance(module, GCNConv))"
   ]
  },
  {
   "cell_type": "code",
   "execution_count": 18,
   "id": "c611af18",
   "metadata": {},
   "outputs": [],
   "source": [
    "all_activations, points_by_cluster = gce_explainer.get_prediction(model,ba_dataset,test=False, get_activations=True)\n",
    "centers = gce_explainer.kmeans.cluster_centers_\n",
    "current_vector = all_activations[targeted_node]"
   ]
  },
  {
   "cell_type": "code",
   "execution_count": 19,
   "id": "5edbfc73",
   "metadata": {},
   "outputs": [],
   "source": [
    "A = np.zeros((num_nodes,num_nodes))\n",
    "for a,b in ba_dataset.edge_index.T:\n",
    "    A[a,b] = A[b,a] = 1\n",
    "A_identity = np.eye(num_nodes)\n",
    "A_squiggle = A + A_identity\n",
    "X = ba_dataset.x.detach().numpy()\n",
    "W = compute_W(model)"
   ]
  },
  {
   "cell_type": "code",
   "execution_count": 20,
   "id": "2436a197",
   "metadata": {},
   "outputs": [],
   "source": [
    "A_hat = compute_A_hat(A_squiggle)\n",
    "AXW = compute_AXW(A_hat,X,W,num_gcn_layers)"
   ]
  },
  {
   "cell_type": "markdown",
   "id": "ec33a30e",
   "metadata": {},
   "source": [
    "## Run the Targeted Attack on Simplified AXW"
   ]
  },
  {
   "cell_type": "code",
   "execution_count": 206,
   "id": "e982ad77",
   "metadata": {},
   "outputs": [],
   "source": [
    "def new_score_function(current_location,centers,current_prediction):\n",
    "    distances = get_kmeans_distances(centers,current_location)\n",
    "    return -np.min(np.delete(distances,current_prediction))"
   ]
  },
  {
   "cell_type": "code",
   "execution_count": 379,
   "id": "a9bd16f3",
   "metadata": {},
   "outputs": [],
   "source": [
    "def new_score_function_2(current_location,centers,current_prediction):\n",
    "    distances = get_kmeans_distances(centers,current_location)\n",
    "    return distances[current_prediction]/np.min(np.delete(distances,current_prediction))"
   ]
  },
  {
   "cell_type": "code",
   "execution_count": 207,
   "id": "72d9215f",
   "metadata": {},
   "outputs": [],
   "source": [
    "def changes_work(centers,A_squiggle,X,W,num_gcn_layers,targeted_node,changes):\n",
    "    A_hat = compute_A_hat(A_squiggle)\n",
    "    AXW = compute_AXW(A_hat,X,W,num_gcn_layers)\n",
    "        \n",
    "    old_prediction = np.argmin(get_kmeans_distances(centers,AXW[targeted_node]))\n",
    "    \n",
    "    A_squiggle_new, X_new = modify_A_X(changes_minmax,A_squiggle,X)\n",
    "        \n",
    "    A_hat_new = compute_A_hat(A_squiggle_new)\n",
    "        \n",
    "    AXW_new = compute_AXW(A_hat_new,X_new,W,num_gcn_layers)\n",
    "    \n",
    "    new_prediction = np.argmin(get_kmeans_distances(centers,AXW_new[targeted_node]))\n",
    "    return new_prediction != old_prediction"
   ]
  },
  {
   "cell_type": "code",
   "execution_count": 380,
   "id": "1f98e295",
   "metadata": {},
   "outputs": [],
   "source": [
    "allowable_nodes = np.where(ba_dataset.test_mask.detach().numpy())[0]\n",
    "allowable_nodes = np.random.choice(allowable_nodes, size=int(0.1*len(allowable_nodes)), replace=False)"
   ]
  },
  {
   "cell_type": "code",
   "execution_count": 381,
   "id": "96a78dde",
   "metadata": {},
   "outputs": [],
   "source": [
    "success = []\n",
    "num_changes = [] \n",
    "time_needed = []"
   ]
  },
  {
   "cell_type": "code",
   "execution_count": 382,
   "id": "2dfb0ced",
   "metadata": {},
   "outputs": [],
   "source": [
    "for i in range(3):\n",
    "    temp_success = []\n",
    "    temp_changes = []\n",
    "    temp_time = []\n",
    "    \n",
    "    random_test_indices = np.where(ba_dataset.test_mask.detach().numpy())[0]\n",
    "    random_test_indices = np.random.choice(random_test_indices, size=int(0.1*len(random_test_indices)), replace=False)\n",
    "    for targeted_node in random_test_indices:\n",
    "        start = time.time()\n",
    "        targeted_node = int(targeted_node)\n",
    "        changes_minmax = targeted_attack(ba_dataset,gce_explainer,model,targeted_node,10,\n",
    "                           new_score_function,allowable_nodes)\n",
    "        end = time.time()\n",
    "        temp_changes.append(len(changes_minmax))\n",
    "        temp_success.append(changes_work(centers,A_squiggle,X,W,num_gcn_layers,targeted_node,changes_minmax))\n",
    "        temp_time.append(end-start)\n",
    "    \n",
    "    success.append(temp_success)\n",
    "    num_changes.append(temp_changes)\n",
    "    time_needed.append(temp_time)"
   ]
  },
  {
   "cell_type": "code",
   "execution_count": 383,
   "id": "9b9cc4e2",
   "metadata": {},
   "outputs": [],
   "source": [
    "allowable_nodes = np.where(ba_dataset.test_mask.detach().numpy())[0]\n",
    "allowable_nodes = np.random.choice(allowable_nodes, size=int(0.2*len(allowable_nodes)), replace=False)"
   ]
  },
  {
   "cell_type": "code",
   "execution_count": 384,
   "id": "29f9633a",
   "metadata": {},
   "outputs": [],
   "source": [
    "success_2 = []\n",
    "num_changes_2 = [] \n",
    "time_needed_2 = []"
   ]
  },
  {
   "cell_type": "code",
   "execution_count": 385,
   "id": "f9069ca6",
   "metadata": {},
   "outputs": [],
   "source": [
    "for i in range(3):\n",
    "    temp_success = []\n",
    "    temp_changes = []\n",
    "    temp_time = []\n",
    "    \n",
    "    random_test_indices = np.where(ba_dataset.test_mask.detach().numpy())[0]\n",
    "    random_test_indices = np.random.choice(random_test_indices, size=int(0.1*len(random_test_indices)), replace=False)\n",
    "    for targeted_node in random_test_indices:\n",
    "        start = time.time()\n",
    "        targeted_node = int(targeted_node)\n",
    "        changes_minmax = targeted_attack(ba_dataset,gce_explainer,model,targeted_node,10,\n",
    "                           new_score_function,allowable_nodes)\n",
    "        end = time.time()\n",
    "        temp_changes.append(len(changes_minmax))\n",
    "        temp_success.append(changes_work(centers,A_squiggle,X,W,num_gcn_layers,targeted_node,changes_minmax))\n",
    "        temp_time.append(end-start)\n",
    "    \n",
    "    success_2.append(temp_success)\n",
    "    num_changes_2.append(temp_changes)\n",
    "    time_needed_2.append(temp_time)"
   ]
  },
  {
   "cell_type": "code",
   "execution_count": 386,
   "id": "27789aa6",
   "metadata": {},
   "outputs": [],
   "source": [
    "success_diff_score = []\n",
    "num_changes_diff_score = [] \n",
    "time_needed_diff_score = []"
   ]
  },
  {
   "cell_type": "code",
   "execution_count": 387,
   "id": "1fdf7b96",
   "metadata": {},
   "outputs": [
    {
     "ename": "KeyboardInterrupt",
     "evalue": "",
     "output_type": "error",
     "traceback": [
      "\u001b[0;31m---------------------------------------------------------------------------\u001b[0m",
      "\u001b[0;31mKeyboardInterrupt\u001b[0m                         Traceback (most recent call last)",
      "Cell \u001b[0;32mIn[387], line 11\u001b[0m\n\u001b[1;32m      9\u001b[0m start \u001b[38;5;241m=\u001b[39m time\u001b[38;5;241m.\u001b[39mtime()\n\u001b[1;32m     10\u001b[0m targeted_node \u001b[38;5;241m=\u001b[39m \u001b[38;5;28mint\u001b[39m(targeted_node)\n\u001b[0;32m---> 11\u001b[0m changes_minmax \u001b[38;5;241m=\u001b[39m \u001b[43mtargeted_attack\u001b[49m\u001b[43m(\u001b[49m\u001b[43mba_dataset\u001b[49m\u001b[43m,\u001b[49m\u001b[43mgce_explainer\u001b[49m\u001b[43m,\u001b[49m\u001b[43mmodel\u001b[49m\u001b[43m,\u001b[49m\u001b[43mtargeted_node\u001b[49m\u001b[43m,\u001b[49m\u001b[38;5;241;43m10\u001b[39;49m\u001b[43m,\u001b[49m\n\u001b[1;32m     12\u001b[0m \u001b[43m                   \u001b[49m\u001b[43mnew_score_function\u001b[49m\u001b[43m,\u001b[49m\u001b[43mallowable_nodes\u001b[49m\u001b[43m)\u001b[49m\n\u001b[1;32m     13\u001b[0m end \u001b[38;5;241m=\u001b[39m time\u001b[38;5;241m.\u001b[39mtime()\n\u001b[1;32m     14\u001b[0m temp_changes\u001b[38;5;241m.\u001b[39mappend(\u001b[38;5;28mlen\u001b[39m(changes_minmax))\n",
      "File \u001b[0;32m/rds/user/njr61/hpc-work/gnn_explainability/src/modify.py:183\u001b[0m, in \u001b[0;36mtargeted_attack\u001b[0;34m(dataset, gce_explainer, model, targeted_node, budget, score_function, allowable_nodes, debug)\u001b[0m\n\u001b[1;32m    180\u001b[0m num_gcn_layers \u001b[38;5;241m=\u001b[39m \u001b[38;5;28msum\u001b[39m(\u001b[38;5;241m1\u001b[39m \u001b[38;5;28;01mfor\u001b[39;00m module \u001b[38;5;129;01min\u001b[39;00m model\u001b[38;5;241m.\u001b[39mmodules() \u001b[38;5;28;01mif\u001b[39;00m \u001b[38;5;28misinstance\u001b[39m(module, GCNConv))\n\u001b[1;32m    182\u001b[0m A \u001b[38;5;241m=\u001b[39m np\u001b[38;5;241m.\u001b[39mzeros((num_nodes,num_nodes))\n\u001b[0;32m--> 183\u001b[0m \u001b[38;5;28;01mfor\u001b[39;00m a,b \u001b[38;5;129;01min\u001b[39;00m dataset\u001b[38;5;241m.\u001b[39medge_index\u001b[38;5;241m.\u001b[39mT:\n\u001b[1;32m    184\u001b[0m     A[a,b] \u001b[38;5;241m=\u001b[39m A[b,a] \u001b[38;5;241m=\u001b[39m \u001b[38;5;241m1\u001b[39m\n\u001b[1;32m    185\u001b[0m A_identity \u001b[38;5;241m=\u001b[39m np\u001b[38;5;241m.\u001b[39meye(num_nodes)\n",
      "File \u001b[0;32m/rds/user/njr61/hpc-work/anaconda3/envs/gnn/lib/python3.9/site-packages/torch/_tensor.py:613\u001b[0m, in \u001b[0;36mTensor.__iter__\u001b[0;34m(self)\u001b[0m\n\u001b[1;32m    608\u001b[0m \u001b[38;5;28;01mif\u001b[39;00m torch\u001b[38;5;241m.\u001b[39m_C\u001b[38;5;241m.\u001b[39m_get_tracing_state():\n\u001b[1;32m    609\u001b[0m     warnings\u001b[38;5;241m.\u001b[39mwarn(\u001b[38;5;124m'\u001b[39m\u001b[38;5;124mIterating over a tensor might cause the trace to be incorrect. \u001b[39m\u001b[38;5;124m'\u001b[39m\n\u001b[1;32m    610\u001b[0m                   \u001b[38;5;124m'\u001b[39m\u001b[38;5;124mPassing a tensor of different shape won\u001b[39m\u001b[38;5;130;01m\\'\u001b[39;00m\u001b[38;5;124mt change the number of \u001b[39m\u001b[38;5;124m'\u001b[39m\n\u001b[1;32m    611\u001b[0m                   \u001b[38;5;124m'\u001b[39m\u001b[38;5;124miterations executed (and might lead to errors or silently give \u001b[39m\u001b[38;5;124m'\u001b[39m\n\u001b[1;32m    612\u001b[0m                   \u001b[38;5;124m'\u001b[39m\u001b[38;5;124mincorrect results).\u001b[39m\u001b[38;5;124m'\u001b[39m, category\u001b[38;5;241m=\u001b[39mtorch\u001b[38;5;241m.\u001b[39mjit\u001b[38;5;241m.\u001b[39mTracerWarning, stacklevel\u001b[38;5;241m=\u001b[39m\u001b[38;5;241m2\u001b[39m)\n\u001b[0;32m--> 613\u001b[0m \u001b[38;5;28;01mreturn\u001b[39;00m \u001b[38;5;28miter\u001b[39m(\u001b[38;5;28;43mself\u001b[39;49m\u001b[38;5;241;43m.\u001b[39;49m\u001b[43munbind\u001b[49m\u001b[43m(\u001b[49m\u001b[38;5;241;43m0\u001b[39;49m\u001b[43m)\u001b[49m)\n",
      "\u001b[0;31mKeyboardInterrupt\u001b[0m: "
     ]
    }
   ],
   "source": [
    "for i in range(3):\n",
    "    temp_success = []\n",
    "    temp_changes = []\n",
    "    temp_time = []\n",
    "    \n",
    "    random_test_indices = np.where(ba_dataset.test_mask.detach().numpy())[0]\n",
    "    random_test_indices = np.random.choice(random_test_indices, size=int(0.1*len(random_test_indices)), replace=False)\n",
    "    for targeted_node in random_test_indices:\n",
    "        start = time.time()\n",
    "        targeted_node = int(targeted_node)\n",
    "        changes_minmax = targeted_attack(ba_dataset,gce_explainer,model,targeted_node,10,\n",
    "                           new_score_function,allowable_nodes)\n",
    "        end = time.time()\n",
    "        temp_changes.append(len(changes_minmax))\n",
    "        temp_success.append(changes_work(centers,A_squiggle,X,W,num_gcn_layers,targeted_node,changes_minmax))\n",
    "        temp_time.append(end-start)\n",
    "    \n",
    "    success_diff_score.append(temp_success)\n",
    "    num_changes_diff_score.append(temp_changes)\n",
    "    time_needed_diff_score.append(temp_time)"
   ]
  },
  {
   "cell_type": "code",
   "execution_count": 392,
   "id": "8d365442",
   "metadata": {},
   "outputs": [
    {
     "data": {
      "text/plain": [
       "[0.3448479175567627,\n",
       " 1.2426960468292236,\n",
       " 1.6866166591644287,\n",
       " 3.2005038261413574,\n",
       " 0.9281718730926514,\n",
       " 3.8996355533599854,\n",
       " 66.92805695533752,\n",
       " 1.2964601516723633,\n",
       " 11.764107704162598,\n",
       " 38.16520595550537,\n",
       " 5.057437419891357,\n",
       " 0.8447177410125732,\n",
       " 6.124061584472656,\n",
       " 0.3247978687286377]"
      ]
     },
     "execution_count": 392,
     "metadata": {},
     "output_type": "execute_result"
    }
   ],
   "source": [
    "time_needed_diff_score[0]"
   ]
  },
  {
   "cell_type": "markdown",
   "id": "7674b4e1",
   "metadata": {},
   "source": [
    "## Run the Targeted Attack on the Real Dataset"
   ]
  },
  {
   "cell_type": "code",
   "execution_count": 393,
   "id": "e91876fd",
   "metadata": {},
   "outputs": [],
   "source": [
    "def modify_dataset(changes,dataset):\n",
    "    new_dataset = deepcopy(dataset)\n",
    "    for change in changes:\n",
    "        if change[0] == \"A\":\n",
    "            edge_num = [change[1],change[2]]\n",
    "            if change[-1] == 0:\n",
    "                indices = (new_dataset.edge_index[0] == change[1]) & (new_dataset.edge_index[1] == change[2])\n",
    "                indices |= (new_dataset.edge_index[0] == change[2]) & (new_dataset.edge_index[1] == change[1])\n",
    "                new_dataset.edge_index = new_dataset.edge_index[:, ~indices]\n",
    "            else:\n",
    "                new_dataset.edge_index = torch.cat((new_dataset.edge_index, \n",
    "                                                    torch.tensor([[change[1]], [change[2]]])), dim=1)\n",
    "        else:\n",
    "            new_dataset.X[change[1],change[2]] = change[3]\n",
    "\n",
    "    return new_dataset"
   ]
  },
  {
   "cell_type": "code",
   "execution_count": 394,
   "id": "c5d3d3ec",
   "metadata": {},
   "outputs": [],
   "source": [
    "targeted_node = 561\n",
    "changes_minmax = targeted_attack(ba_dataset,gce_explainer,model,targeted_node,10,\n",
    "                   new_score_function,allowable_nodes)\n",
    "new_dataset = modify_dataset(changes_minmax,ba_dataset)"
   ]
  },
  {
   "cell_type": "code",
   "execution_count": 401,
   "id": "4f2a0b87",
   "metadata": {},
   "outputs": [],
   "source": [
    "all_activations, points_by_cluster = gce_explainer.get_prediction(model,ba_dataset,test=False, get_activations=True)"
   ]
  },
  {
   "cell_type": "code",
   "execution_count": 402,
   "id": "b3cbfeda",
   "metadata": {},
   "outputs": [],
   "source": [
    "new_activations, points_by_cluster = gce_explainer.get_prediction(model,new_dataset,test=False, get_activations=True)"
   ]
  },
  {
   "cell_type": "code",
   "execution_count": 405,
   "id": "6d1b5a1e",
   "metadata": {},
   "outputs": [
    {
     "data": {
      "text/plain": [
       "(tensor([[ 38,  43,  54,  ..., 638, 665, 631],\n",
       "         [  0,   1,   2,  ..., 593, 652, 581]]),\n",
       " tensor([[ 38,  43,  54,  ..., 695, 697, 699],\n",
       "         [  0,   1,   2,  ..., 697, 698, 698]]))"
      ]
     },
     "execution_count": 405,
     "metadata": {},
     "output_type": "execute_result"
    }
   ],
   "source": [
    "new_dataset.edge_index, ba_dataset.edge_index"
   ]
  },
  {
   "cell_type": "markdown",
   "id": "a4712f0c",
   "metadata": {},
   "source": [
    "## Debugging"
   ]
  },
  {
   "cell_type": "code",
   "execution_count": 318,
   "id": "9ff11b4a",
   "metadata": {},
   "outputs": [
    {
     "data": {
      "text/plain": [
       "{5}"
      ]
     },
     "execution_count": 318,
     "metadata": {},
     "output_type": "execute_result"
    }
   ],
   "source": [
    "a = set()\n",
    "a.add(5)\n",
    "a.union(set([6]))\n",
    "a"
   ]
  },
  {
   "cell_type": "code",
   "execution_count": 296,
   "id": "c9516a24",
   "metadata": {},
   "outputs": [],
   "source": [
    "A_squiggle,i,j= changes_minmax"
   ]
  },
  {
   "cell_type": "code",
   "execution_count": 297,
   "id": "b45e6a56",
   "metadata": {},
   "outputs": [],
   "source": [
    "A_squiggle_new = copy(A_squiggle)\n",
    "A_squiggle_new[i,j] = 1-A_squiggle[i,j]"
   ]
  },
  {
   "cell_type": "code",
   "execution_count": 321,
   "id": "18d84af3",
   "metadata": {},
   "outputs": [],
   "source": [
    "new_D_half = compute_D_half(A_squiggle_new)\n",
    "predicted_A_hat = new_D_half.dot(A_squiggle_new).dot(new_D_half)\n",
    "visitable_nodes = get_n_hop(A_squiggle_new,561,num_gcn_layers)"
   ]
  },
  {
   "cell_type": "code",
   "execution_count": 332,
   "id": "7f85a45b",
   "metadata": {},
   "outputs": [
    {
     "data": {
      "text/plain": [
       "64.98461356351979"
      ]
     },
     "execution_count": 332,
     "metadata": {},
     "output_type": "execute_result"
    }
   ],
   "source": [
    "np.linalg.norm(A_squiggle_new)"
   ]
  },
  {
   "cell_type": "code",
   "execution_count": 335,
   "id": "e0dc7252",
   "metadata": {},
   "outputs": [
    {
     "data": {
      "text/plain": [
       "124122"
      ]
     },
     "execution_count": 335,
     "metadata": {},
     "output_type": "execute_result"
    }
   ],
   "source": [
    "sum(visitable_nodes)"
   ]
  },
  {
   "cell_type": "code",
   "execution_count": 327,
   "id": "affdca9f",
   "metadata": {},
   "outputs": [
    {
     "name": "stdout",
     "output_type": "stream",
     "text": [
      "three hop [186, 187, 188, 192, 221, 269, 295, 296, 309, 329, 330, 331, 332, 333, 337, 343, 344, 350, 352, 362, 365, 367, 372, 373, 374, 375, 376, 377, 378, 379, 384, 386, 389, 394, 401, 402, 403, 404, 410, 411, 418, 420, 424, 425, 426, 427, 428, 429, 430, 431, 432, 433, 434, 437, 438, 441, 442, 444, 445, 446, 448, 449, 450, 452, 453, 454, 456, 457, 458, 460, 461, 463, 464, 466, 468, 469, 473, 474, 476, 477, 478, 479, 480, 481, 482, 484, 485, 487, 488, 489, 491, 494, 496, 497, 498, 500, 502, 504, 505, 506, 507, 508, 509, 510, 511, 512, 513, 514, 515, 516, 517, 518, 519, 520, 521, 522, 523, 524, 525, 526, 527, 528, 529, 530, 531, 533, 535, 536, 537, 538, 539, 540, 543, 544, 545, 546, 547, 548, 549, 550, 551, 552, 553, 554, 555, 556, 557, 558, 559, 560, 561, 562, 563, 564, 565, 566, 567, 568, 569, 570, 571, 572, 573, 574, 576, 577, 578, 579, 580, 581, 582, 584, 587, 588, 589, 590, 591, 593, 594, 597, 598, 600, 602, 605, 606, 607, 608, 613, 614, 615, 616, 620, 621, 622, 624, 625, 626, 628, 629, 631, 632, 633, 634, 636, 637, 638, 640, 642, 647, 649, 651, 652, 653, 655, 656, 658, 660, 662, 663, 665, 666, 667, 668, 670, 671, 672, 673, 674, 676, 677, 678, 679, 680, 682, 683, 685, 689, 691, 693, 694]\n",
      "[560]\n",
      "[512, 513, 514, 515, 516, 517, 518, 519, 520, 521, 522, 523, 524, 525, 526, 527, 528, 529, 530, 531, 533, 535, 536, 537, 538, 539, 540, 543, 544, 545, 546, 547, 548, 549, 550, 551, 552, 553, 554, 555, 556, 557, 558, 559, 560, 561, 562, 563, 564, 565, 566, 567, 568, 569, 570, 571, 572, 573, 574, 576, 577, 578, 579, 580, 581, 582, 584, 587, 588, 589, 590, 591, 593, 594, 597, 598, 600, 602, 605, 606, 607, 608, 613, 614, 615, 616, 620, 621, 622, 624, 625, 626, 628, 629, 631, 632, 633, 634, 636, 637, 638, 640, 642, 647, 649, 651, 652, 653, 655, 656, 658, 660, 662, 663, 665, 666, 667, 668, 670, 671, 672, 673, 674, 676, 677, 678, 679, 680, 682, 683, 685, 689, 691, 693, 694, 186, 187, 188, 192, 221, 269, 295, 296, 309, 329, 330, 331, 332, 333, 337, 343, 344, 350, 352, 362, 365, 367, 372, 373, 374, 375, 376, 377, 378, 379, 384, 386, 389, 394, 401, 402, 403, 404, 410, 411, 418, 420, 424, 425, 426, 427, 428, 429, 430, 431, 432, 433, 434, 437, 438, 441, 442, 444, 445, 446, 448, 449, 450, 452, 453, 454, 456, 457, 458, 460, 461, 463, 464, 466, 468, 469, 473, 474, 476, 477, 478, 479, 480, 481, 482, 484, 485, 487, 488, 489, 491, 494, 496, 497, 498, 500, 502, 504, 505, 506, 507, 508, 509, 510, 511]\n"
     ]
    }
   ],
   "source": [
    "predicted_A_hat_pow = get_adjacency_power(A_squiggle_new,new_D_half,num_gcn_layers,561,visitable_nodes)"
   ]
  },
  {
   "cell_type": "code",
   "execution_count": 328,
   "id": "806761ff",
   "metadata": {},
   "outputs": [],
   "source": [
    "real_A_hat = compute_A_hat(A_squiggle_new)\n",
    "real_A_hat_pow = np.linalg.matrix_power(real_A_hat,num_gcn_layers)"
   ]
  },
  {
   "cell_type": "code",
   "execution_count": 358,
   "id": "eefca0ed",
   "metadata": {},
   "outputs": [
    {
     "data": {
      "text/plain": [
       "237"
      ]
     },
     "execution_count": 358,
     "metadata": {},
     "output_type": "execute_result"
    }
   ],
   "source": [
    "len(np.where(np.linalg.matrix_power(A_hat,num_gcn_layers)[561])[0])"
   ]
  },
  {
   "cell_type": "code",
   "execution_count": 329,
   "id": "f7a66081",
   "metadata": {},
   "outputs": [
    {
     "data": {
      "text/plain": [
       "(0.017407765595569783, 0.017407765595569783)"
      ]
     },
     "execution_count": 329,
     "metadata": {},
     "output_type": "execute_result"
    }
   ],
   "source": [
    "predicted_A_hat_pow[330],real_A_hat_pow[561][330]"
   ]
  },
  {
   "cell_type": "code",
   "execution_count": 355,
   "id": "dc8a3f2f",
   "metadata": {},
   "outputs": [
    {
     "data": {
      "text/plain": [
       "237"
      ]
     },
     "execution_count": 355,
     "metadata": {},
     "output_type": "execute_result"
    }
   ],
   "source": [
    "len(get_n_hop(A_squiggle,561,num_gcn_layers))"
   ]
  },
  {
   "cell_type": "code",
   "execution_count": 313,
   "id": "64018508",
   "metadata": {},
   "outputs": [
    {
     "data": {
      "text/plain": [
       "array([185, 330, 332, 560])"
      ]
     },
     "execution_count": 313,
     "metadata": {},
     "output_type": "execute_result"
    }
   ],
   "source": [
    "np.where(predicted_A_hat[330])[0]"
   ]
  },
  {
   "cell_type": "code",
   "execution_count": null,
   "id": "81fe6d6d",
   "metadata": {},
   "outputs": [],
   "source": []
  }
 ],
 "metadata": {
  "kernelspec": {
   "display_name": "Python 3 (ipykernel)",
   "language": "python",
   "name": "python3"
  },
  "language_info": {
   "codemirror_mode": {
    "name": "ipython",
    "version": 3
   },
   "file_extension": ".py",
   "mimetype": "text/x-python",
   "name": "python",
   "nbconvert_exporter": "python",
   "pygments_lexer": "ipython3",
   "version": "3.9.16"
  }
 },
 "nbformat": 4,
 "nbformat_minor": 5
}
