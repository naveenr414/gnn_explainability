{
 "cells": [
  {
   "cell_type": "code",
   "execution_count": 1,
   "id": "c399e856",
   "metadata": {
    "pycharm": {
     "is_executing": true
    }
   },
   "outputs": [],
   "source": [
    "%load_ext autoreload\n",
    "%autoreload 2"
   ]
  },
  {
   "cell_type": "code",
   "execution_count": 2,
   "id": "9758ec94",
   "metadata": {
    "pycharm": {
     "is_executing": true
    }
   },
   "outputs": [],
   "source": [
    "import torch"
   ]
  },
  {
   "cell_type": "code",
   "execution_count": 3,
   "id": "5b95dec0",
   "metadata": {},
   "outputs": [],
   "source": [
    "from torch_geometric.data import Data, DataLoader\n",
    "from torch_geometric.datasets import TUDataset, Planetoid\n",
    "from torch_geometric.nn import GCNConv, Set2Set, GNNExplainer\n",
    "import torch_geometric.transforms as T\n",
    "import torch\n",
    "import torch.nn.functional as F\n",
    "import os\n",
    "\n",
    "import matplotlib.pyplot as plt\n",
    "from dgl.data import BACommunityDataset\n",
    "import networkx as nx\n",
    "import torch_geometric\n",
    "import dgl\n",
    "from copy import deepcopy, copy\n"
   ]
  },
  {
   "cell_type": "code",
   "execution_count": 4,
   "id": "8e9b44bb",
   "metadata": {},
   "outputs": [],
   "source": [
    "from src.model import *\n",
    "from src.data import *\n",
    "from src.explainer import *\n",
    "from src.plot import *\n",
    "from src.modify import *\n",
    "from src.protgnn import *\n",
    "from src.util import *"
   ]
  },
  {
   "cell_type": "code",
   "execution_count": 5,
   "id": "22c47970",
   "metadata": {},
   "outputs": [
    {
     "name": "stdout",
     "output_type": "stream",
     "text": [
      "Done loading data from cached files.\n"
     ]
    },
    {
     "name": "stderr",
     "output_type": "stream",
     "text": [
      "/rds/user/njr61/hpc-work/anaconda3/envs/gnn/lib/python3.9/site-packages/torch_geometric/deprecation.py:13: UserWarning: 'data.DataLoader' is deprecated, use 'loader.DataLoader' instead\n",
      "  warnings.warn(out)\n"
     ]
    }
   ],
   "source": [
    "ba_dataset = get_dataset(\"BAShapes\")"
   ]
  },
  {
   "cell_type": "code",
   "execution_count": 6,
   "id": "03c1a525",
   "metadata": {},
   "outputs": [],
   "source": [
    "num_classes = len(set([int(i) for i in ba_dataset.y]))\n",
    "num_features = ba_dataset.x.shape[-1]"
   ]
  },
  {
   "cell_type": "code",
   "execution_count": 7,
   "id": "526b05da",
   "metadata": {},
   "outputs": [],
   "source": [
    "epochs = 3000\n",
    "dim = 20"
   ]
  },
  {
   "cell_type": "markdown",
   "id": "18440220",
   "metadata": {},
   "source": [
    "## Model Setup"
   ]
  },
  {
   "cell_type": "code",
   "execution_count": 8,
   "id": "def1e92d",
   "metadata": {},
   "outputs": [],
   "source": [
    "device = torch.device('cuda' if torch.cuda.is_available() else 'cpu')"
   ]
  },
  {
   "cell_type": "code",
   "execution_count": 9,
   "id": "3d497819",
   "metadata": {},
   "outputs": [],
   "source": [
    "model = NetSmall(num_features=num_features, dim=dim, num_classes=num_classes).to(device)"
   ]
  },
  {
   "cell_type": "code",
   "execution_count": 10,
   "id": "0e78009b",
   "metadata": {},
   "outputs": [],
   "source": [
    "optimizer = torch.optim.Adam(model.parameters(), lr=0.01, weight_decay=5e-3)"
   ]
  },
  {
   "cell_type": "code",
   "execution_count": 11,
   "id": "0d21528e",
   "metadata": {},
   "outputs": [
    {
     "name": "stderr",
     "output_type": "stream",
     "text": [
      "[Train_loss:1.326827 Train_acc: 0.2679, Test_acc: 0.0714]: 100%|█| 3000/300\n"
     ]
    }
   ],
   "source": [
    "model = train_model(epochs,model,device,ba_dataset,optimizer,test_model)"
   ]
  },
  {
   "cell_type": "code",
   "execution_count": 12,
   "id": "074fb51f",
   "metadata": {},
   "outputs": [
    {
     "data": {
      "text/plain": [
       "NetSmall(\n",
       "  (conv1): GCNConv(1, 20)\n",
       "  (conv2): GCNConv(20, 20)\n",
       "  (linear): Linear(in_features=20, out_features=4, bias=False)\n",
       ")"
      ]
     },
     "execution_count": 12,
     "metadata": {},
     "output_type": "execute_result"
    }
   ],
   "source": [
    "model.eval()"
   ]
  },
  {
   "cell_type": "code",
   "execution_count": 13,
   "id": "9aef5866",
   "metadata": {},
   "outputs": [],
   "source": [
    "gce_explainer = GCExplainer(layer_name=\"conv2\")"
   ]
  },
  {
   "cell_type": "code",
   "execution_count": 14,
   "id": "2f53b708",
   "metadata": {},
   "outputs": [
    {
     "name": "stderr",
     "output_type": "stream",
     "text": [
      "/rds/user/njr61/hpc-work/anaconda3/envs/gnn/lib/python3.9/site-packages/sklearn/cluster/_kmeans.py:870: FutureWarning: The default value of `n_init` will change from 10 to 'auto' in 1.4. Set the value of `n_init` explicitly to suppress the warning\n",
      "  warnings.warn(\n"
     ]
    }
   ],
   "source": [
    "gce_explainer.learn_prototypes(model,ba_dataset)"
   ]
  },
  {
   "cell_type": "code",
   "execution_count": 15,
   "id": "43e6ba58",
   "metadata": {},
   "outputs": [
    {
     "data": {
      "text/plain": [
       "array([0, 2, 2, 3, 2, 2, 3, 0, 2, 2, 3, 2, 3, 2, 2, 3, 2, 0, 3, 1, 2, 2,\n",
       "       3, 2, 2, 1, 1, 2, 0, 3, 3, 3, 2, 1, 0, 2, 3, 2, 2, 0, 0, 3, 2, 2,\n",
       "       1, 2, 2, 3, 3, 0, 1, 1, 0, 0, 0, 2, 2, 1, 1, 0, 0, 0, 2, 2, 3, 3,\n",
       "       3, 0, 0, 2, 3, 1, 0, 0, 0, 0, 3, 3, 3, 2, 2, 3, 0, 2, 2, 1, 3, 3,\n",
       "       3, 3, 2, 1, 3, 0, 3, 3, 1, 0, 0, 3, 2, 1, 3, 2, 2, 3, 1, 1, 2, 1,\n",
       "       3, 0, 0, 2, 2, 0, 2, 3, 0, 2, 3, 2, 0, 2, 3, 2, 2, 1, 1, 3, 2, 2,\n",
       "       1, 2, 3, 1, 1, 0, 0, 1])"
      ]
     },
     "execution_count": 15,
     "metadata": {},
     "output_type": "execute_result"
    }
   ],
   "source": [
    "gce_explainer.get_prediction(model,ba_dataset)"
   ]
  },
  {
   "cell_type": "code",
   "execution_count": 16,
   "id": "4fa62325",
   "metadata": {
    "scrolled": true
   },
   "outputs": [
    {
     "data": {
      "image/png": "[encoded data removed]",
      "text/plain": [
       "<Figure size 640x480 with 1 Axes>"
      ]
     },
     "metadata": {},
     "output_type": "display_data"
    }
   ],
   "source": [
    "plot_kmeans_clusters(gce_explainer.kmeans,gce_explainer.initial_activations)"
   ]
  },
  {
   "cell_type": "markdown",
   "id": "6bb270ed",
   "metadata": {},
   "source": [
    "## Low-Level Matrices"
   ]
  },
  {
   "cell_type": "code",
   "execution_count": 17,
   "id": "512979e5",
   "metadata": {},
   "outputs": [],
   "source": [
    "num_nodes = ba_dataset.num_nodes\n",
    "num_features = ba_dataset.num_features\n",
    "edge_index = ba_dataset.edge_index\n",
    "targeted_node = 5\n",
    "num_gcn_layers = sum(1 for module in model.modules() if isinstance(module, GCNConv))"
   ]
  },
  {
   "cell_type": "code",
   "execution_count": 18,
   "id": "c611af18",
   "metadata": {},
   "outputs": [],
   "source": [
    "all_activations, points_by_cluster = gce_explainer.get_prediction(model,ba_dataset,test=False, get_activations=True)\n",
    "centers = gce_explainer.kmeans.cluster_centers_\n",
    "current_vector = all_activations[targeted_node]"
   ]
  },
  {
   "cell_type": "code",
   "execution_count": 19,
   "id": "5edbfc73",
   "metadata": {},
   "outputs": [],
   "source": [
    "A = np.zeros((num_nodes,num_nodes))\n",
    "for a,b in ba_dataset.edge_index.T:\n",
    "    A[a,b] = A[b,a] = 1\n",
    "A_identity = np.eye(num_nodes)\n",
    "A_squiggle = A + A_identity\n",
    "X = ba_dataset.x.detach().numpy()\n",
    "W = compute_W(model)"
   ]
  },
  {
   "cell_type": "code",
   "execution_count": 20,
   "id": "2436a197",
   "metadata": {},
   "outputs": [],
   "source": [
    "A_hat = compute_A_hat(A_squiggle)\n",
    "AXW = compute_AXW(A_hat,X,W,num_gcn_layers)"
   ]
  },
  {
   "cell_type": "markdown",
   "id": "ec33a30e",
   "metadata": {},
   "source": [
    "## Run the Targeted Attack"
   ]
  },
  {
   "cell_type": "code",
   "execution_count": 51,
   "id": "e61e94ee",
   "metadata": {},
   "outputs": [
    {
     "data": {
      "text/plain": [
       "array([0.30108966, 0.0394369 , 0.06643955, 0.17102286])"
      ]
     },
     "execution_count": 51,
     "metadata": {},
     "output_type": "execute_result"
    }
   ],
   "source": [
    "current_location = AXW[targeted_node]\n",
    "get_kmeans_distances(centers,current_location)"
   ]
  },
  {
   "cell_type": "code",
   "execution_count": 69,
   "id": "2c1f1956",
   "metadata": {},
   "outputs": [
    {
     "data": {
      "text/plain": [
       "array([0.23465011, 0.10587645, 0.        , 0.10458331])"
      ]
     },
     "execution_count": 69,
     "metadata": {},
     "output_type": "execute_result"
    }
   ],
   "source": [
    "new_location = current_location + get_movement_direction_minmax(centers,current_location)\n",
    "get_kmeans_distances(centers,new_location)"
   ]
  },
  {
   "cell_type": "code",
   "execution_count": 107,
   "id": "e982ad77",
   "metadata": {},
   "outputs": [],
   "source": [
    "def new_score_function(current_location,centers,current_prediction):\n",
    "    distances = get_kmeans_distances(centers,current_location)\n",
    "    return -np.min(np.delete(distances,current_prediction))"
   ]
  },
  {
   "cell_type": "code",
   "execution_count": 113,
   "id": "2dfb0ced",
   "metadata": {},
   "outputs": [
    {
     "name": "stdout",
     "output_type": "stream",
     "text": [
      "Distances [0.30108966 0.0394369  0.06643955 0.17102286]\n",
      "Max score (-0.028481346980527355, 'A', 77, 5, 0.0)\n",
      "Distances [0.26313146 0.0773951  0.02848135 0.13306466]\n"
     ]
    },
    {
     "data": {
      "text/plain": [
       "[('A', 77, 5, 0.0)]"
      ]
     },
     "execution_count": 113,
     "metadata": {},
     "output_type": "execute_result"
    }
   ],
   "source": [
    "changes_minmax = targeted_attack(ba_dataset,gce_explainer,model,targeted_node,10,\n",
    "                   new_score_function, get_movement_direction_coloumb)\n",
    "changes_minmax"
   ]
  },
  {
   "cell_type": "code",
   "execution_count": 109,
   "id": "55d6d7f9",
   "metadata": {},
   "outputs": [],
   "source": [
    "A_squiggle_new, X_new = modify_A_X(changes_minmax,A_squiggle,X)\n",
    "A_hat_new = compute_A_hat(A_squiggle_new)\n",
    "AXW_new = compute_AXW(A_hat_new,X_new,W,num_gcn_layers)"
   ]
  },
  {
   "cell_type": "code",
   "execution_count": 104,
   "id": "18b6ef98",
   "metadata": {},
   "outputs": [
    {
     "data": {
      "text/plain": [
       "array([1.71507713, 1.37455058, 1.48042702, 1.58501034])"
      ]
     },
     "execution_count": 104,
     "metadata": {},
     "output_type": "execute_result"
    }
   ],
   "source": [
    "current_location = AXW_new[targeted_node]\n",
    "get_kmeans_distances(centers,current_location)"
   ]
  },
  {
   "cell_type": "code",
   "execution_count": null,
   "id": "a11c8cd2",
   "metadata": {},
   "outputs": [],
   "source": []
  }
 ],
 "metadata": {
  "kernelspec": {
   "display_name": "Python 3 (ipykernel)",
   "language": "python",
   "name": "python3"
  },
  "language_info": {
   "codemirror_mode": {
    "name": "ipython",
    "version": 3
   },
   "file_extension": ".py",
   "mimetype": "text/x-python",
   "name": "python",
   "nbconvert_exporter": "python",
   "pygments_lexer": "ipython3",
   "version": "3.9.16"
  }
 },
 "nbformat": 4,
 "nbformat_minor": 5
}
